{
 "cells": [
  {
   "cell_type": "code",
   "execution_count": 185,
   "id": "e340218a",
   "metadata": {},
   "outputs": [],
   "source": [
    "import numpy as np\n",
    "import pandas as pd\n",
    "import matplotlib.pyplot as plt\n",
    "import seaborn as sns\n",
    "import warnings\n",
    "warnings.filterwarnings(\"ignore\")"
   ]
  },
  {
   "cell_type": "code",
   "execution_count": 186,
   "id": "b915f855",
   "metadata": {},
   "outputs": [
    {
     "data": {
      "text/html": [
       "<div>\n",
       "<style scoped>\n",
       "    .dataframe tbody tr th:only-of-type {\n",
       "        vertical-align: middle;\n",
       "    }\n",
       "\n",
       "    .dataframe tbody tr th {\n",
       "        vertical-align: top;\n",
       "    }\n",
       "\n",
       "    .dataframe thead th {\n",
       "        text-align: right;\n",
       "    }\n",
       "</style>\n",
       "<table border=\"1\" class=\"dataframe\">\n",
       "  <thead>\n",
       "    <tr style=\"text-align: right;\">\n",
       "      <th></th>\n",
       "      <th>Unnamed: 0</th>\n",
       "      <th>TV</th>\n",
       "      <th>Radio</th>\n",
       "      <th>Newspaper</th>\n",
       "      <th>Sales</th>\n",
       "    </tr>\n",
       "  </thead>\n",
       "  <tbody>\n",
       "    <tr>\n",
       "      <th>0</th>\n",
       "      <td>1</td>\n",
       "      <td>230.1</td>\n",
       "      <td>37.8</td>\n",
       "      <td>69.2</td>\n",
       "      <td>22.1</td>\n",
       "    </tr>\n",
       "    <tr>\n",
       "      <th>1</th>\n",
       "      <td>2</td>\n",
       "      <td>44.5</td>\n",
       "      <td>39.3</td>\n",
       "      <td>45.1</td>\n",
       "      <td>10.4</td>\n",
       "    </tr>\n",
       "    <tr>\n",
       "      <th>2</th>\n",
       "      <td>3</td>\n",
       "      <td>17.2</td>\n",
       "      <td>45.9</td>\n",
       "      <td>69.3</td>\n",
       "      <td>9.3</td>\n",
       "    </tr>\n",
       "    <tr>\n",
       "      <th>3</th>\n",
       "      <td>4</td>\n",
       "      <td>151.5</td>\n",
       "      <td>41.3</td>\n",
       "      <td>58.5</td>\n",
       "      <td>18.5</td>\n",
       "    </tr>\n",
       "    <tr>\n",
       "      <th>4</th>\n",
       "      <td>5</td>\n",
       "      <td>180.8</td>\n",
       "      <td>10.8</td>\n",
       "      <td>58.4</td>\n",
       "      <td>12.9</td>\n",
       "    </tr>\n",
       "    <tr>\n",
       "      <th>...</th>\n",
       "      <td>...</td>\n",
       "      <td>...</td>\n",
       "      <td>...</td>\n",
       "      <td>...</td>\n",
       "      <td>...</td>\n",
       "    </tr>\n",
       "    <tr>\n",
       "      <th>195</th>\n",
       "      <td>196</td>\n",
       "      <td>38.2</td>\n",
       "      <td>3.7</td>\n",
       "      <td>13.8</td>\n",
       "      <td>7.6</td>\n",
       "    </tr>\n",
       "    <tr>\n",
       "      <th>196</th>\n",
       "      <td>197</td>\n",
       "      <td>94.2</td>\n",
       "      <td>4.9</td>\n",
       "      <td>8.1</td>\n",
       "      <td>9.7</td>\n",
       "    </tr>\n",
       "    <tr>\n",
       "      <th>197</th>\n",
       "      <td>198</td>\n",
       "      <td>177.0</td>\n",
       "      <td>9.3</td>\n",
       "      <td>6.4</td>\n",
       "      <td>12.8</td>\n",
       "    </tr>\n",
       "    <tr>\n",
       "      <th>198</th>\n",
       "      <td>199</td>\n",
       "      <td>283.6</td>\n",
       "      <td>42.0</td>\n",
       "      <td>66.2</td>\n",
       "      <td>25.5</td>\n",
       "    </tr>\n",
       "    <tr>\n",
       "      <th>199</th>\n",
       "      <td>200</td>\n",
       "      <td>232.1</td>\n",
       "      <td>8.6</td>\n",
       "      <td>8.7</td>\n",
       "      <td>13.4</td>\n",
       "    </tr>\n",
       "  </tbody>\n",
       "</table>\n",
       "<p>200 rows × 5 columns</p>\n",
       "</div>"
      ],
      "text/plain": [
       "     Unnamed: 0     TV  Radio  Newspaper  Sales\n",
       "0             1  230.1   37.8       69.2   22.1\n",
       "1             2   44.5   39.3       45.1   10.4\n",
       "2             3   17.2   45.9       69.3    9.3\n",
       "3             4  151.5   41.3       58.5   18.5\n",
       "4             5  180.8   10.8       58.4   12.9\n",
       "..          ...    ...    ...        ...    ...\n",
       "195         196   38.2    3.7       13.8    7.6\n",
       "196         197   94.2    4.9        8.1    9.7\n",
       "197         198  177.0    9.3        6.4   12.8\n",
       "198         199  283.6   42.0       66.2   25.5\n",
       "199         200  232.1    8.6        8.7   13.4\n",
       "\n",
       "[200 rows x 5 columns]"
      ]
     },
     "execution_count": 186,
     "metadata": {},
     "output_type": "execute_result"
    }
   ],
   "source": [
    "# loading the Dataset.\n",
    "df = pd.read_csv('Advertising.csv')\n",
    "df"
   ]
  },
  {
   "cell_type": "code",
   "execution_count": 187,
   "id": "57b3ea4a",
   "metadata": {},
   "outputs": [],
   "source": [
    "# first will drop the unwanted columns.\n",
    "df.drop(columns='Unnamed: 0', axis=1, inplace=True)"
   ]
  },
  {
   "cell_type": "code",
   "execution_count": 188,
   "id": "f3becac0",
   "metadata": {},
   "outputs": [
    {
     "data": {
      "text/html": [
       "<div>\n",
       "<style scoped>\n",
       "    .dataframe tbody tr th:only-of-type {\n",
       "        vertical-align: middle;\n",
       "    }\n",
       "\n",
       "    .dataframe tbody tr th {\n",
       "        vertical-align: top;\n",
       "    }\n",
       "\n",
       "    .dataframe thead th {\n",
       "        text-align: right;\n",
       "    }\n",
       "</style>\n",
       "<table border=\"1\" class=\"dataframe\">\n",
       "  <thead>\n",
       "    <tr style=\"text-align: right;\">\n",
       "      <th></th>\n",
       "      <th>TV</th>\n",
       "      <th>Radio</th>\n",
       "      <th>Newspaper</th>\n",
       "      <th>Sales</th>\n",
       "    </tr>\n",
       "  </thead>\n",
       "  <tbody>\n",
       "    <tr>\n",
       "      <th>0</th>\n",
       "      <td>230.1</td>\n",
       "      <td>37.8</td>\n",
       "      <td>69.2</td>\n",
       "      <td>22.1</td>\n",
       "    </tr>\n",
       "    <tr>\n",
       "      <th>1</th>\n",
       "      <td>44.5</td>\n",
       "      <td>39.3</td>\n",
       "      <td>45.1</td>\n",
       "      <td>10.4</td>\n",
       "    </tr>\n",
       "    <tr>\n",
       "      <th>2</th>\n",
       "      <td>17.2</td>\n",
       "      <td>45.9</td>\n",
       "      <td>69.3</td>\n",
       "      <td>9.3</td>\n",
       "    </tr>\n",
       "    <tr>\n",
       "      <th>3</th>\n",
       "      <td>151.5</td>\n",
       "      <td>41.3</td>\n",
       "      <td>58.5</td>\n",
       "      <td>18.5</td>\n",
       "    </tr>\n",
       "    <tr>\n",
       "      <th>4</th>\n",
       "      <td>180.8</td>\n",
       "      <td>10.8</td>\n",
       "      <td>58.4</td>\n",
       "      <td>12.9</td>\n",
       "    </tr>\n",
       "    <tr>\n",
       "      <th>...</th>\n",
       "      <td>...</td>\n",
       "      <td>...</td>\n",
       "      <td>...</td>\n",
       "      <td>...</td>\n",
       "    </tr>\n",
       "    <tr>\n",
       "      <th>195</th>\n",
       "      <td>38.2</td>\n",
       "      <td>3.7</td>\n",
       "      <td>13.8</td>\n",
       "      <td>7.6</td>\n",
       "    </tr>\n",
       "    <tr>\n",
       "      <th>196</th>\n",
       "      <td>94.2</td>\n",
       "      <td>4.9</td>\n",
       "      <td>8.1</td>\n",
       "      <td>9.7</td>\n",
       "    </tr>\n",
       "    <tr>\n",
       "      <th>197</th>\n",
       "      <td>177.0</td>\n",
       "      <td>9.3</td>\n",
       "      <td>6.4</td>\n",
       "      <td>12.8</td>\n",
       "    </tr>\n",
       "    <tr>\n",
       "      <th>198</th>\n",
       "      <td>283.6</td>\n",
       "      <td>42.0</td>\n",
       "      <td>66.2</td>\n",
       "      <td>25.5</td>\n",
       "    </tr>\n",
       "    <tr>\n",
       "      <th>199</th>\n",
       "      <td>232.1</td>\n",
       "      <td>8.6</td>\n",
       "      <td>8.7</td>\n",
       "      <td>13.4</td>\n",
       "    </tr>\n",
       "  </tbody>\n",
       "</table>\n",
       "<p>200 rows × 4 columns</p>\n",
       "</div>"
      ],
      "text/plain": [
       "        TV  Radio  Newspaper  Sales\n",
       "0    230.1   37.8       69.2   22.1\n",
       "1     44.5   39.3       45.1   10.4\n",
       "2     17.2   45.9       69.3    9.3\n",
       "3    151.5   41.3       58.5   18.5\n",
       "4    180.8   10.8       58.4   12.9\n",
       "..     ...    ...        ...    ...\n",
       "195   38.2    3.7       13.8    7.6\n",
       "196   94.2    4.9        8.1    9.7\n",
       "197  177.0    9.3        6.4   12.8\n",
       "198  283.6   42.0       66.2   25.5\n",
       "199  232.1    8.6        8.7   13.4\n",
       "\n",
       "[200 rows x 4 columns]"
      ]
     },
     "execution_count": 188,
     "metadata": {},
     "output_type": "execute_result"
    }
   ],
   "source": [
    "df"
   ]
  },
  {
   "cell_type": "code",
   "execution_count": 189,
   "id": "d09175b1",
   "metadata": {},
   "outputs": [
    {
     "data": {
      "text/plain": [
       "TV           0\n",
       "Radio        0\n",
       "Newspaper    0\n",
       "Sales        0\n",
       "dtype: int64"
      ]
     },
     "execution_count": 189,
     "metadata": {},
     "output_type": "execute_result"
    }
   ],
   "source": [
    "# checking the null value\n",
    "df.isnull().sum()"
   ]
  },
  {
   "cell_type": "code",
   "execution_count": 190,
   "id": "57f6c707",
   "metadata": {},
   "outputs": [
    {
     "name": "stdout",
     "output_type": "stream",
     "text": [
      "<class 'pandas.core.frame.DataFrame'>\n",
      "RangeIndex: 200 entries, 0 to 199\n",
      "Data columns (total 4 columns):\n",
      " #   Column     Non-Null Count  Dtype  \n",
      "---  ------     --------------  -----  \n",
      " 0   TV         200 non-null    float64\n",
      " 1   Radio      200 non-null    float64\n",
      " 2   Newspaper  200 non-null    float64\n",
      " 3   Sales      200 non-null    float64\n",
      "dtypes: float64(4)\n",
      "memory usage: 6.4 KB\n"
     ]
    }
   ],
   "source": [
    "# information about the dataset\n",
    "df.info()"
   ]
  },
  {
   "cell_type": "markdown",
   "id": "e421b71e",
   "metadata": {},
   "source": [
    "The given observation is a pandas DataFrame with 200 rows and 4 columns. Here's a breakdown of the information provided:\n",
    "\n",
    "- Column 0: \"TV\" - This column represents the amount spent on TV advertising. It contains 200 non-null float64 values.\n",
    "- Column 1: \"Radio\" - This column represents the amount spent on radio advertising. It also contains 200 non-null float64 values.\n",
    "- Column 2: \"Newspaper\" - This column represents the amount spent on newspaper advertising. It also contains 200 non-null float64 values.\n",
    "- Column 3: \"Sales\" - This column represents the sales generated. It contains 200 non-null float64 values.\n",
    "\n",
    "The \"non-null count\" indicates that there are no missing values in any of the columns. The \"Dtype\" for all columns is float64, indicating that the values in each column are floating-point numbers.\n",
    "\n",
    "Based on the information provided, it appears that this DataFrame contains data related to advertising expenses across different mediums (TV, radio, and newspaper) and the corresponding sales figures. This data could potentially be used to explore the relationship between advertising expenses and sales, and possibly build regression models to predict sales based on the advertising expenditure."
   ]
  },
  {
   "cell_type": "code",
   "execution_count": 191,
   "id": "d4bce9c6",
   "metadata": {},
   "outputs": [
    {
     "data": {
      "text/html": [
       "<div>\n",
       "<style scoped>\n",
       "    .dataframe tbody tr th:only-of-type {\n",
       "        vertical-align: middle;\n",
       "    }\n",
       "\n",
       "    .dataframe tbody tr th {\n",
       "        vertical-align: top;\n",
       "    }\n",
       "\n",
       "    .dataframe thead th {\n",
       "        text-align: right;\n",
       "    }\n",
       "</style>\n",
       "<table border=\"1\" class=\"dataframe\">\n",
       "  <thead>\n",
       "    <tr style=\"text-align: right;\">\n",
       "      <th></th>\n",
       "      <th>TV</th>\n",
       "      <th>Radio</th>\n",
       "      <th>Newspaper</th>\n",
       "      <th>Sales</th>\n",
       "    </tr>\n",
       "  </thead>\n",
       "  <tbody>\n",
       "    <tr>\n",
       "      <th>TV</th>\n",
       "      <td>1.000000</td>\n",
       "      <td>0.054809</td>\n",
       "      <td>0.056648</td>\n",
       "      <td>0.782224</td>\n",
       "    </tr>\n",
       "    <tr>\n",
       "      <th>Radio</th>\n",
       "      <td>0.054809</td>\n",
       "      <td>1.000000</td>\n",
       "      <td>0.354104</td>\n",
       "      <td>0.576223</td>\n",
       "    </tr>\n",
       "    <tr>\n",
       "      <th>Newspaper</th>\n",
       "      <td>0.056648</td>\n",
       "      <td>0.354104</td>\n",
       "      <td>1.000000</td>\n",
       "      <td>0.228299</td>\n",
       "    </tr>\n",
       "    <tr>\n",
       "      <th>Sales</th>\n",
       "      <td>0.782224</td>\n",
       "      <td>0.576223</td>\n",
       "      <td>0.228299</td>\n",
       "      <td>1.000000</td>\n",
       "    </tr>\n",
       "  </tbody>\n",
       "</table>\n",
       "</div>"
      ],
      "text/plain": [
       "                 TV     Radio  Newspaper     Sales\n",
       "TV         1.000000  0.054809   0.056648  0.782224\n",
       "Radio      0.054809  1.000000   0.354104  0.576223\n",
       "Newspaper  0.056648  0.354104   1.000000  0.228299\n",
       "Sales      0.782224  0.576223   0.228299  1.000000"
      ]
     },
     "execution_count": 191,
     "metadata": {},
     "output_type": "execute_result"
    }
   ],
   "source": [
    "df.corr()"
   ]
  },
  {
   "cell_type": "markdown",
   "id": "57296a31",
   "metadata": {},
   "source": [
    "The given observation presents a correlation matrix that shows the correlation coefficients between different variables: TV, Radio, Newspaper, and Sales. Each cell in the matrix represents the correlation coefficient between two variables.\n",
    "\n",
    "The correlation coefficients indicate the strength and direction of the linear relationship between the variables. Here's an explanation of the observation:\n",
    "\n",
    "- TV and Sales: The correlation coefficient between TV advertising expenses and sales is 0.782224, indicating a strong positive correlation. This suggests that as TV advertising expenses increase, sales tend to increase as well.\n",
    "\n",
    "- Radio and Sales: The correlation coefficient between radio advertising expenses and sales is 0.576223, indicating a moderate positive correlation. This suggests that there is a positive relationship between radio advertising expenses and sales, but it is not as strong as the relationship with TV advertising.\n",
    "\n",
    "- Newspaper and Sales: The correlation coefficient between newspaper advertising expenses and sales is 0.228299, indicating a weak positive correlation. This suggests a relatively weak relationship between newspaper advertising expenses and sales.\n",
    "\n",
    "To check for multicollinearity, we need to examine the correlation between the independent variables (TV, Radio, and Newspaper). High correlation between independent variables can indicate multicollinearity, which can affect the reliability of regression models. Let's check the correlation coefficients between the independent variables:\n",
    "\n",
    "- TV and Radio: The correlation coefficient between TV and Radio is 0.054809, indicating a weak positive correlation. This suggests that there is little correlation between TV and radio advertising expenses.\n",
    "\n",
    "- TV and Newspaper: The correlation coefficient between TV and Newspaper is 0.056648, indicating a weak positive correlation. This suggests little correlation between TV and newspaper advertising expenses.\n",
    "\n",
    "- Radio and Newspaper: The correlation coefficient between Radio and Newspaper is 0.354104, indicating a moderate positive correlation. This suggests some level of correlation between radio and newspaper advertising expenses.\n",
    "\n",
    "Based on the correlation coefficients, there is no significant multicollinearity issue among the independent variables. The correlation coefficients between TV, Radio, and Newspaper are relatively low, indicating that they are not strongly correlated with each other. However, it's important to note that correlation coefficients only capture linear relationships, and there may be other forms of relationships or interactions between the variables that are not captured by these coefficients."
   ]
  },
  {
   "cell_type": "code",
   "execution_count": 192,
   "id": "a11d0f71",
   "metadata": {},
   "outputs": [],
   "source": [
    "#  checking the skewness\n",
    "from scipy.stats import skew"
   ]
  },
  {
   "cell_type": "code",
   "execution_count": 193,
   "id": "7ebc6b70",
   "metadata": {
    "scrolled": false
   },
   "outputs": [
    {
     "name": "stdout",
     "output_type": "stream",
     "text": [
      "TV : -0.06932836662244649\n",
      "Mean: 147.0425\n",
      "Median: 149.75\n",
      "Mode: 17.2\n"
     ]
    },
    {
     "data": {
      "image/png": "[encoded data removed]",
      "text/plain": [
       "<Figure size 640x480 with 1 Axes>"
      ]
     },
     "metadata": {},
     "output_type": "display_data"
    },
    {
     "name": "stdout",
     "output_type": "stream",
     "text": [
      "Radio : 0.0934668451108453\n",
      "Mean: 23.264000000000006\n",
      "Median: 22.9\n",
      "Mode: 4.1\n"
     ]
    },
    {
     "data": {
      "image/png": "[encoded data removed]",
      "text/plain": [
       "<Figure size 640x480 with 1 Axes>"
      ]
     },
     "metadata": {},
     "output_type": "display_data"
    },
    {
     "name": "stdout",
     "output_type": "stream",
     "text": [
      "Newspaper : 0.8879959753085498\n",
      "Mean: 30.553999999999995\n",
      "Median: 25.75\n",
      "Mode: 8.7\n"
     ]
    },
    {
     "data": {
      "image/png": "[encoded data removed]",
      "text/plain": [
       "<Figure size 640x480 with 1 Axes>"
      ]
     },
     "metadata": {},
     "output_type": "display_data"
    },
    {
     "name": "stdout",
     "output_type": "stream",
     "text": [
      "Sales : 0.4045082487061191\n",
      "Mean: 14.0225\n",
      "Median: 12.9\n",
      "Mode: 9.7\n"
     ]
    },
    {
     "data": {
      "image/png": "[encoded data removed]",
      "text/plain": [
       "<Figure size 640x480 with 1 Axes>"
      ]
     },
     "metadata": {},
     "output_type": "display_data"
    }
   ],
   "source": [
    "for col in df.columns:\n",
    "    print(f'{col} : {skew(df[col])}')\n",
    "    print(f'Mean: {df[col].mean()}')\n",
    "    print(f'Median: {df[col].median()}')\n",
    "    print(f'Mode: {df[col].mode()[0]}')\n",
    "    sns.distplot(df[col])\n",
    "    plt.show()"
   ]
  },
  {
   "cell_type": "code",
   "execution_count": 194,
   "id": "fa4ed44d",
   "metadata": {},
   "outputs": [
    {
     "name": "stdout",
     "output_type": "stream",
     "text": [
      "TV : -0.06932836662244649\n",
      "Radio : 0.0934668451108453\n",
      "Newspaper : 0.8879959753085498\n",
      "Sales : 0.4045082487061191\n"
     ]
    }
   ],
   "source": [
    "for col in df.columns:\n",
    "    print(f'{col} : {skew(df[col])}')\n"
   ]
  },
  {
   "cell_type": "code",
   "execution_count": 195,
   "id": "e3d5df36",
   "metadata": {},
   "outputs": [
    {
     "data": {
      "text/html": [
       "<div>\n",
       "<style scoped>\n",
       "    .dataframe tbody tr th:only-of-type {\n",
       "        vertical-align: middle;\n",
       "    }\n",
       "\n",
       "    .dataframe tbody tr th {\n",
       "        vertical-align: top;\n",
       "    }\n",
       "\n",
       "    .dataframe thead th {\n",
       "        text-align: right;\n",
       "    }\n",
       "</style>\n",
       "<table border=\"1\" class=\"dataframe\">\n",
       "  <thead>\n",
       "    <tr style=\"text-align: right;\">\n",
       "      <th></th>\n",
       "      <th>TV</th>\n",
       "      <th>Radio</th>\n",
       "      <th>Newspaper</th>\n",
       "      <th>Sales</th>\n",
       "    </tr>\n",
       "  </thead>\n",
       "  <tbody>\n",
       "    <tr>\n",
       "      <th>TV</th>\n",
       "      <td>1.000000</td>\n",
       "      <td>0.054809</td>\n",
       "      <td>0.056648</td>\n",
       "      <td>0.782224</td>\n",
       "    </tr>\n",
       "    <tr>\n",
       "      <th>Radio</th>\n",
       "      <td>0.054809</td>\n",
       "      <td>1.000000</td>\n",
       "      <td>0.354104</td>\n",
       "      <td>0.576223</td>\n",
       "    </tr>\n",
       "    <tr>\n",
       "      <th>Newspaper</th>\n",
       "      <td>0.056648</td>\n",
       "      <td>0.354104</td>\n",
       "      <td>1.000000</td>\n",
       "      <td>0.228299</td>\n",
       "    </tr>\n",
       "    <tr>\n",
       "      <th>Sales</th>\n",
       "      <td>0.782224</td>\n",
       "      <td>0.576223</td>\n",
       "      <td>0.228299</td>\n",
       "      <td>1.000000</td>\n",
       "    </tr>\n",
       "  </tbody>\n",
       "</table>\n",
       "</div>"
      ],
      "text/plain": [
       "                 TV     Radio  Newspaper     Sales\n",
       "TV         1.000000  0.054809   0.056648  0.782224\n",
       "Radio      0.054809  1.000000   0.354104  0.576223\n",
       "Newspaper  0.056648  0.354104   1.000000  0.228299\n",
       "Sales      0.782224  0.576223   0.228299  1.000000"
      ]
     },
     "execution_count": 195,
     "metadata": {},
     "output_type": "execute_result"
    }
   ],
   "source": [
    "df.corr()"
   ]
  },
  {
   "cell_type": "markdown",
   "id": "93e8972b",
   "metadata": {},
   "source": [
    "    #In the case of Newspaper,\n",
    "    #Skewness value is not close to Zero and Correlation value is not close to One."
   ]
  },
  {
   "cell_type": "code",
   "execution_count": 196,
   "id": "77105a98",
   "metadata": {},
   "outputs": [
    {
     "data": {
      "text/plain": [
       "0.8879959753085498"
      ]
     },
     "execution_count": 196,
     "metadata": {},
     "output_type": "execute_result"
    }
   ],
   "source": [
    "skew(df['Newspaper'])"
   ]
  },
  {
   "cell_type": "code",
   "execution_count": 197,
   "id": "47ab2ee9",
   "metadata": {},
   "outputs": [
    {
     "data": {
      "text/plain": [
       "0    69.2\n",
       "1    45.1\n",
       "2    69.3\n",
       "3    58.5\n",
       "4    58.4\n",
       "Name: Newspaper, dtype: float64"
      ]
     },
     "execution_count": 197,
     "metadata": {},
     "output_type": "execute_result"
    }
   ],
   "source": [
    "df['Newspaper'].head()"
   ]
  },
  {
   "cell_type": "code",
   "execution_count": 198,
   "id": "cd64f2b4",
   "metadata": {},
   "outputs": [
    {
     "data": {
      "text/plain": [
       "4.237000862623624"
      ]
     },
     "execution_count": 198,
     "metadata": {},
     "output_type": "execute_result"
    }
   ],
   "source": [
    "np.log(69.2)"
   ]
  },
  {
   "cell_type": "code",
   "execution_count": 199,
   "id": "693fab11",
   "metadata": {},
   "outputs": [
    {
     "data": {
      "text/plain": [
       "3.8088822465086327"
      ]
     },
     "execution_count": 199,
     "metadata": {},
     "output_type": "execute_result"
    }
   ],
   "source": [
    "np.log(45.1)"
   ]
  },
  {
   "cell_type": "code",
   "execution_count": 200,
   "id": "7a1fe752",
   "metadata": {},
   "outputs": [
    {
     "data": {
      "text/plain": [
       "0    4.237001\n",
       "1    3.808882\n",
       "2    4.238445\n",
       "3    4.069027\n",
       "4    4.067316\n",
       "Name: Newspaper, dtype: float64"
      ]
     },
     "execution_count": 200,
     "metadata": {},
     "output_type": "execute_result"
    }
   ],
   "source": [
    "np.log(df['Newspaper']).head()"
   ]
  },
  {
   "cell_type": "code",
   "execution_count": 201,
   "id": "79199827",
   "metadata": {},
   "outputs": [
    {
     "data": {
      "text/plain": [
       "0      8.318654\n",
       "1      6.715653\n",
       "2      8.324662\n",
       "3      7.648529\n",
       "4      7.641989\n",
       "         ...   \n",
       "195    3.714835\n",
       "196    2.846050\n",
       "197    2.529822\n",
       "198    8.136338\n",
       "199    2.949576\n",
       "Name: Newspaper, Length: 200, dtype: float64"
      ]
     },
     "execution_count": 201,
     "metadata": {},
     "output_type": "execute_result"
    }
   ],
   "source": [
    "np.sqrt(df['Newspaper'])"
   ]
  },
  {
   "cell_type": "code",
   "execution_count": 202,
   "id": "de9d74f8",
   "metadata": {},
   "outputs": [
    {
     "data": {
      "text/plain": [
       "0.8879959753085498"
      ]
     },
     "execution_count": 202,
     "metadata": {},
     "output_type": "execute_result"
    }
   ],
   "source": [
    "skew(df['Newspaper'])"
   ]
  },
  {
   "cell_type": "code",
   "execution_count": 203,
   "id": "407fef87",
   "metadata": {},
   "outputs": [
    {
     "data": {
      "text/plain": [
       "0.061918832707862255"
      ]
     },
     "execution_count": 203,
     "metadata": {},
     "output_type": "execute_result"
    }
   ],
   "source": [
    "skew(np.sqrt(df['Newspaper']))"
   ]
  },
  {
   "cell_type": "code",
   "execution_count": 204,
   "id": "46de01bd",
   "metadata": {},
   "outputs": [
    {
     "data": {
      "text/plain": [
       "-1.1723613758648055"
      ]
     },
     "execution_count": 204,
     "metadata": {},
     "output_type": "execute_result"
    }
   ],
   "source": [
    "skew(np.log(df['Newspaper']))"
   ]
  },
  {
   "cell_type": "code",
   "execution_count": 205,
   "id": "212d3e4f",
   "metadata": {},
   "outputs": [
    {
     "data": {
      "text/plain": [
       "0.061918832707862255"
      ]
     },
     "execution_count": 205,
     "metadata": {},
     "output_type": "execute_result"
    }
   ],
   "source": [
    "# lets remove the skew value of Newpapaer Using sqrt\n",
    "df['Newspaper'] = np.sqrt(df['Newspaper'])\n",
    "skew(df['Newspaper'])"
   ]
  },
  {
   "cell_type": "code",
   "execution_count": 206,
   "id": "a36ed2c6",
   "metadata": {},
   "outputs": [
    {
     "data": {
      "text/plain": [
       "<Axes: xlabel='Newspaper', ylabel='Density'>"
      ]
     },
     "execution_count": 206,
     "metadata": {},
     "output_type": "execute_result"
    },
    {
     "data": {
      "image/png": "[encoded data removed]",
      "text/plain": [
       "<Figure size 640x480 with 1 Axes>"
      ]
     },
     "metadata": {},
     "output_type": "display_data"
    }
   ],
   "source": [
    "sns.distplot(df['Newspaper'])"
   ]
  },
  {
   "cell_type": "code",
   "execution_count": 207,
   "id": "3aace6e6",
   "metadata": {},
   "outputs": [
    {
     "data": {
      "text/plain": [
       "5.139871756730105"
      ]
     },
     "execution_count": 207,
     "metadata": {},
     "output_type": "execute_result"
    }
   ],
   "source": [
    "df['Newspaper'].mean()"
   ]
  },
  {
   "cell_type": "code",
   "execution_count": 208,
   "id": "8c7fb907",
   "metadata": {},
   "outputs": [
    {
     "data": {
      "text/plain": [
       "5.074424258134598"
      ]
     },
     "execution_count": 208,
     "metadata": {},
     "output_type": "execute_result"
    }
   ],
   "source": [
    "df['Newspaper'].median()"
   ]
  },
  {
   "cell_type": "code",
   "execution_count": 209,
   "id": "fc86b8d9",
   "metadata": {},
   "outputs": [
    {
     "data": {
      "text/plain": [
       "2.949576240750525"
      ]
     },
     "execution_count": 209,
     "metadata": {},
     "output_type": "execute_result"
    }
   ],
   "source": [
    "df.Newspaper.mode()[0]"
   ]
  },
  {
   "cell_type": "code",
   "execution_count": 210,
   "id": "01537d86",
   "metadata": {},
   "outputs": [
    {
     "data": {
      "text/html": [
       "<div>\n",
       "<style scoped>\n",
       "    .dataframe tbody tr th:only-of-type {\n",
       "        vertical-align: middle;\n",
       "    }\n",
       "\n",
       "    .dataframe tbody tr th {\n",
       "        vertical-align: top;\n",
       "    }\n",
       "\n",
       "    .dataframe thead th {\n",
       "        text-align: right;\n",
       "    }\n",
       "</style>\n",
       "<table border=\"1\" class=\"dataframe\">\n",
       "  <thead>\n",
       "    <tr style=\"text-align: right;\">\n",
       "      <th></th>\n",
       "      <th>TV</th>\n",
       "      <th>Radio</th>\n",
       "      <th>Newspaper</th>\n",
       "      <th>Sales</th>\n",
       "    </tr>\n",
       "  </thead>\n",
       "  <tbody>\n",
       "    <tr>\n",
       "      <th>0</th>\n",
       "      <td>230.1</td>\n",
       "      <td>37.8</td>\n",
       "      <td>8.318654</td>\n",
       "      <td>22.1</td>\n",
       "    </tr>\n",
       "    <tr>\n",
       "      <th>1</th>\n",
       "      <td>44.5</td>\n",
       "      <td>39.3</td>\n",
       "      <td>6.715653</td>\n",
       "      <td>10.4</td>\n",
       "    </tr>\n",
       "    <tr>\n",
       "      <th>2</th>\n",
       "      <td>17.2</td>\n",
       "      <td>45.9</td>\n",
       "      <td>8.324662</td>\n",
       "      <td>9.3</td>\n",
       "    </tr>\n",
       "    <tr>\n",
       "      <th>3</th>\n",
       "      <td>151.5</td>\n",
       "      <td>41.3</td>\n",
       "      <td>7.648529</td>\n",
       "      <td>18.5</td>\n",
       "    </tr>\n",
       "    <tr>\n",
       "      <th>4</th>\n",
       "      <td>180.8</td>\n",
       "      <td>10.8</td>\n",
       "      <td>7.641989</td>\n",
       "      <td>12.9</td>\n",
       "    </tr>\n",
       "  </tbody>\n",
       "</table>\n",
       "</div>"
      ],
      "text/plain": [
       "      TV  Radio  Newspaper  Sales\n",
       "0  230.1   37.8   8.318654   22.1\n",
       "1   44.5   39.3   6.715653   10.4\n",
       "2   17.2   45.9   8.324662    9.3\n",
       "3  151.5   41.3   7.648529   18.5\n",
       "4  180.8   10.8   7.641989   12.9"
      ]
     },
     "execution_count": 210,
     "metadata": {},
     "output_type": "execute_result"
    }
   ],
   "source": [
    "df.head()"
   ]
  },
  {
   "cell_type": "markdown",
   "id": "53868683",
   "metadata": {},
   "source": [
    "### Data Visulaization"
   ]
  },
  {
   "cell_type": "code",
   "execution_count": 211,
   "id": "830a028f",
   "metadata": {
    "scrolled": false
   },
   "outputs": [
    {
     "data": {
      "image/png": "[encoded data removed]",
      "text/plain": [
       "<Figure size 640x480 with 1 Axes>"
      ]
     },
     "metadata": {},
     "output_type": "display_data"
    }
   ],
   "source": [
    "import seaborn as sns\n",
    "import matplotlib.pyplot as plt\n",
    "\n",
    "# Histogram of TV advertising expenses\n",
    "sns.histplot(data=df, x='TV')\n",
    "plt.xlabel('TV Advertising Expenses')\n",
    "plt.ylabel('Frequency')\n",
    "plt.title('Distribution of TV Advertising Expenses')\n",
    "plt.show()"
   ]
  },
  {
   "cell_type": "code",
   "execution_count": 212,
   "id": "96320830",
   "metadata": {},
   "outputs": [
    {
     "data": {
      "image/png": "[encoded data removed]",
      "text/plain": [
       "<Figure size 640x480 with 1 Axes>"
      ]
     },
     "metadata": {},
     "output_type": "display_data"
    }
   ],
   "source": [
    "# Scatter plot of TV advertising expenses vs. Sales\n",
    "sns.scatterplot(data=df, x='TV', y='Sales')\n",
    "plt.xlabel('TV Advertising Expenses')\n",
    "plt.ylabel('Sales')\n",
    "plt.title('TV Advertising Expenses vs. Sales')\n",
    "plt.show()"
   ]
  },
  {
   "cell_type": "code",
   "execution_count": 213,
   "id": "3c0aa9d8",
   "metadata": {},
   "outputs": [
    {
     "data": {
      "image/png": "[encoded data removed]",
      "text/plain": [
       "<Figure size 640x480 with 1 Axes>"
      ]
     },
     "metadata": {},
     "output_type": "display_data"
    }
   ],
   "source": [
    "# Box plot of TV advertising expenses\n",
    "sns.boxplot(data=df, y='TV')\n",
    "plt.ylabel('TV Advertising Expenses')\n",
    "plt.title('Box Plot of TV Advertising Expenses')\n",
    "plt.show()"
   ]
  },
  {
   "cell_type": "code",
   "execution_count": 214,
   "id": "18002fea",
   "metadata": {},
   "outputs": [
    {
     "data": {
      "image/png": "[encoded data removed]",
      "text/plain": [
       "<Figure size 640x480 with 1 Axes>"
      ]
     },
     "metadata": {},
     "output_type": "display_data"
    }
   ],
   "source": [
    "# Box plot of TV advertising expenses\n",
    "sns.boxplot(data=df, y='Radio')\n",
    "plt.ylabel('Radio Advertising Expenses')\n",
    "plt.title('Box Plot of Radio Advertising Expenses')\n",
    "plt.show()"
   ]
  },
  {
   "cell_type": "code",
   "execution_count": 215,
   "id": "67b243f0",
   "metadata": {},
   "outputs": [
    {
     "data": {
      "image/png": "[encoded data removed]",
      "text/plain": [
       "<Figure size 640x480 with 1 Axes>"
      ]
     },
     "metadata": {},
     "output_type": "display_data"
    }
   ],
   "source": [
    "# Box plot of TV advertising expenses\n",
    "sns.boxplot(data=df, y='Newspaper')\n",
    "plt.ylabel('Newspaper Advertising Expenses')\n",
    "plt.title('Box Plot of Newspaper Advertising Expenses')\n",
    "plt.show()"
   ]
  },
  {
   "cell_type": "code",
   "execution_count": 216,
   "id": "977055b3",
   "metadata": {},
   "outputs": [
    {
     "data": {
      "image/png": "[encoded data removed]",
      "text/plain": [
       "<Figure size 1000x1000 with 20 Axes>"
      ]
     },
     "metadata": {},
     "output_type": "display_data"
    }
   ],
   "source": [
    "# Scatter plot matrix\n",
    "sns.pairplot(data=df)\n",
    "plt.show()"
   ]
  },
  {
   "cell_type": "code",
   "execution_count": 217,
   "id": "8bbb2f17",
   "metadata": {},
   "outputs": [
    {
     "data": {
      "image/png": "[encoded data removed]",
      "text/plain": [
       "<Figure size 640x480 with 2 Axes>"
      ]
     },
     "metadata": {},
     "output_type": "display_data"
    }
   ],
   "source": [
    "# Heatmap of correlation matrix\n",
    "correlation_matrix = df.corr()\n",
    "sns.heatmap(correlation_matrix, annot=True)\n",
    "plt.title('Correlation Heatmap')\n",
    "plt.show()"
   ]
  },
  {
   "cell_type": "markdown",
   "id": "3452e0ab",
   "metadata": {},
   "source": [
    "    # Here from the above observation what we can see that there is multicolinearity between Radio and Newpaper.\n",
    "    \n",
    "    # And whenever there is Multi collinearity within the input feature we drop the column, here, in this case, 'Newspaper' column will be dropped."
   ]
  },
  {
   "cell_type": "code",
   "execution_count": 218,
   "id": "07ffa38a",
   "metadata": {},
   "outputs": [],
   "source": [
    "df.drop(columns='Newspaper',axis=1,inplace=True)"
   ]
  },
  {
   "cell_type": "code",
   "execution_count": 219,
   "id": "b9c348f6",
   "metadata": {},
   "outputs": [
    {
     "data": {
      "text/html": [
       "<div>\n",
       "<style scoped>\n",
       "    .dataframe tbody tr th:only-of-type {\n",
       "        vertical-align: middle;\n",
       "    }\n",
       "\n",
       "    .dataframe tbody tr th {\n",
       "        vertical-align: top;\n",
       "    }\n",
       "\n",
       "    .dataframe thead th {\n",
       "        text-align: right;\n",
       "    }\n",
       "</style>\n",
       "<table border=\"1\" class=\"dataframe\">\n",
       "  <thead>\n",
       "    <tr style=\"text-align: right;\">\n",
       "      <th></th>\n",
       "      <th>TV</th>\n",
       "      <th>Radio</th>\n",
       "      <th>Sales</th>\n",
       "    </tr>\n",
       "  </thead>\n",
       "  <tbody>\n",
       "    <tr>\n",
       "      <th>count</th>\n",
       "      <td>200.000000</td>\n",
       "      <td>200.000000</td>\n",
       "      <td>200.000000</td>\n",
       "    </tr>\n",
       "    <tr>\n",
       "      <th>mean</th>\n",
       "      <td>147.042500</td>\n",
       "      <td>23.264000</td>\n",
       "      <td>14.022500</td>\n",
       "    </tr>\n",
       "    <tr>\n",
       "      <th>std</th>\n",
       "      <td>85.854236</td>\n",
       "      <td>14.846809</td>\n",
       "      <td>5.217457</td>\n",
       "    </tr>\n",
       "    <tr>\n",
       "      <th>min</th>\n",
       "      <td>0.700000</td>\n",
       "      <td>0.000000</td>\n",
       "      <td>1.600000</td>\n",
       "    </tr>\n",
       "    <tr>\n",
       "      <th>25%</th>\n",
       "      <td>74.375000</td>\n",
       "      <td>9.975000</td>\n",
       "      <td>10.375000</td>\n",
       "    </tr>\n",
       "    <tr>\n",
       "      <th>50%</th>\n",
       "      <td>149.750000</td>\n",
       "      <td>22.900000</td>\n",
       "      <td>12.900000</td>\n",
       "    </tr>\n",
       "    <tr>\n",
       "      <th>75%</th>\n",
       "      <td>218.825000</td>\n",
       "      <td>36.525000</td>\n",
       "      <td>17.400000</td>\n",
       "    </tr>\n",
       "    <tr>\n",
       "      <th>max</th>\n",
       "      <td>296.400000</td>\n",
       "      <td>49.600000</td>\n",
       "      <td>27.000000</td>\n",
       "    </tr>\n",
       "  </tbody>\n",
       "</table>\n",
       "</div>"
      ],
      "text/plain": [
       "               TV       Radio       Sales\n",
       "count  200.000000  200.000000  200.000000\n",
       "mean   147.042500   23.264000   14.022500\n",
       "std     85.854236   14.846809    5.217457\n",
       "min      0.700000    0.000000    1.600000\n",
       "25%     74.375000    9.975000   10.375000\n",
       "50%    149.750000   22.900000   12.900000\n",
       "75%    218.825000   36.525000   17.400000\n",
       "max    296.400000   49.600000   27.000000"
      ]
     },
     "execution_count": 219,
     "metadata": {},
     "output_type": "execute_result"
    }
   ],
   "source": [
    "df.describe()"
   ]
  },
  {
   "cell_type": "code",
   "execution_count": 220,
   "id": "fa246d71",
   "metadata": {},
   "outputs": [
    {
     "data": {
      "text/html": [
       "<div>\n",
       "<style scoped>\n",
       "    .dataframe tbody tr th:only-of-type {\n",
       "        vertical-align: middle;\n",
       "    }\n",
       "\n",
       "    .dataframe tbody tr th {\n",
       "        vertical-align: top;\n",
       "    }\n",
       "\n",
       "    .dataframe thead th {\n",
       "        text-align: right;\n",
       "    }\n",
       "</style>\n",
       "<table border=\"1\" class=\"dataframe\">\n",
       "  <thead>\n",
       "    <tr style=\"text-align: right;\">\n",
       "      <th></th>\n",
       "      <th>TV</th>\n",
       "      <th>Radio</th>\n",
       "      <th>Sales</th>\n",
       "    </tr>\n",
       "  </thead>\n",
       "  <tbody>\n",
       "    <tr>\n",
       "      <th>0</th>\n",
       "      <td>230.1</td>\n",
       "      <td>37.8</td>\n",
       "      <td>22.1</td>\n",
       "    </tr>\n",
       "    <tr>\n",
       "      <th>1</th>\n",
       "      <td>44.5</td>\n",
       "      <td>39.3</td>\n",
       "      <td>10.4</td>\n",
       "    </tr>\n",
       "    <tr>\n",
       "      <th>2</th>\n",
       "      <td>17.2</td>\n",
       "      <td>45.9</td>\n",
       "      <td>9.3</td>\n",
       "    </tr>\n",
       "    <tr>\n",
       "      <th>3</th>\n",
       "      <td>151.5</td>\n",
       "      <td>41.3</td>\n",
       "      <td>18.5</td>\n",
       "    </tr>\n",
       "    <tr>\n",
       "      <th>4</th>\n",
       "      <td>180.8</td>\n",
       "      <td>10.8</td>\n",
       "      <td>12.9</td>\n",
       "    </tr>\n",
       "  </tbody>\n",
       "</table>\n",
       "</div>"
      ],
      "text/plain": [
       "      TV  Radio  Sales\n",
       "0  230.1   37.8   22.1\n",
       "1   44.5   39.3   10.4\n",
       "2   17.2   45.9    9.3\n",
       "3  151.5   41.3   18.5\n",
       "4  180.8   10.8   12.9"
      ]
     },
     "execution_count": 220,
     "metadata": {},
     "output_type": "execute_result"
    }
   ],
   "source": [
    "df.head()"
   ]
  },
  {
   "cell_type": "markdown",
   "id": "8cc0d2a4",
   "metadata": {},
   "source": [
    "#### Split X and Y"
   ]
  },
  {
   "cell_type": "code",
   "execution_count": 221,
   "id": "27078048",
   "metadata": {},
   "outputs": [],
   "source": [
    "x = df.iloc[:,:-1]"
   ]
  },
  {
   "cell_type": "code",
   "execution_count": 222,
   "id": "f6445cbc",
   "metadata": {},
   "outputs": [
    {
     "data": {
      "text/html": [
       "<div>\n",
       "<style scoped>\n",
       "    .dataframe tbody tr th:only-of-type {\n",
       "        vertical-align: middle;\n",
       "    }\n",
       "\n",
       "    .dataframe tbody tr th {\n",
       "        vertical-align: top;\n",
       "    }\n",
       "\n",
       "    .dataframe thead th {\n",
       "        text-align: right;\n",
       "    }\n",
       "</style>\n",
       "<table border=\"1\" class=\"dataframe\">\n",
       "  <thead>\n",
       "    <tr style=\"text-align: right;\">\n",
       "      <th></th>\n",
       "      <th>TV</th>\n",
       "      <th>Radio</th>\n",
       "    </tr>\n",
       "  </thead>\n",
       "  <tbody>\n",
       "    <tr>\n",
       "      <th>0</th>\n",
       "      <td>230.1</td>\n",
       "      <td>37.8</td>\n",
       "    </tr>\n",
       "    <tr>\n",
       "      <th>1</th>\n",
       "      <td>44.5</td>\n",
       "      <td>39.3</td>\n",
       "    </tr>\n",
       "    <tr>\n",
       "      <th>2</th>\n",
       "      <td>17.2</td>\n",
       "      <td>45.9</td>\n",
       "    </tr>\n",
       "    <tr>\n",
       "      <th>3</th>\n",
       "      <td>151.5</td>\n",
       "      <td>41.3</td>\n",
       "    </tr>\n",
       "    <tr>\n",
       "      <th>4</th>\n",
       "      <td>180.8</td>\n",
       "      <td>10.8</td>\n",
       "    </tr>\n",
       "    <tr>\n",
       "      <th>...</th>\n",
       "      <td>...</td>\n",
       "      <td>...</td>\n",
       "    </tr>\n",
       "    <tr>\n",
       "      <th>195</th>\n",
       "      <td>38.2</td>\n",
       "      <td>3.7</td>\n",
       "    </tr>\n",
       "    <tr>\n",
       "      <th>196</th>\n",
       "      <td>94.2</td>\n",
       "      <td>4.9</td>\n",
       "    </tr>\n",
       "    <tr>\n",
       "      <th>197</th>\n",
       "      <td>177.0</td>\n",
       "      <td>9.3</td>\n",
       "    </tr>\n",
       "    <tr>\n",
       "      <th>198</th>\n",
       "      <td>283.6</td>\n",
       "      <td>42.0</td>\n",
       "    </tr>\n",
       "    <tr>\n",
       "      <th>199</th>\n",
       "      <td>232.1</td>\n",
       "      <td>8.6</td>\n",
       "    </tr>\n",
       "  </tbody>\n",
       "</table>\n",
       "<p>200 rows × 2 columns</p>\n",
       "</div>"
      ],
      "text/plain": [
       "        TV  Radio\n",
       "0    230.1   37.8\n",
       "1     44.5   39.3\n",
       "2     17.2   45.9\n",
       "3    151.5   41.3\n",
       "4    180.8   10.8\n",
       "..     ...    ...\n",
       "195   38.2    3.7\n",
       "196   94.2    4.9\n",
       "197  177.0    9.3\n",
       "198  283.6   42.0\n",
       "199  232.1    8.6\n",
       "\n",
       "[200 rows x 2 columns]"
      ]
     },
     "execution_count": 222,
     "metadata": {},
     "output_type": "execute_result"
    }
   ],
   "source": [
    "x"
   ]
  },
  {
   "cell_type": "code",
   "execution_count": 223,
   "id": "d211399c",
   "metadata": {},
   "outputs": [],
   "source": [
    "y = df.iloc[:,-1]"
   ]
  },
  {
   "cell_type": "code",
   "execution_count": 224,
   "id": "f20c41f0",
   "metadata": {},
   "outputs": [
    {
     "data": {
      "text/plain": [
       "0      22.1\n",
       "1      10.4\n",
       "2       9.3\n",
       "3      18.5\n",
       "4      12.9\n",
       "       ... \n",
       "195     7.6\n",
       "196     9.7\n",
       "197    12.8\n",
       "198    25.5\n",
       "199    13.4\n",
       "Name: Sales, Length: 200, dtype: float64"
      ]
     },
     "execution_count": 224,
     "metadata": {},
     "output_type": "execute_result"
    }
   ],
   "source": [
    "y"
   ]
  },
  {
   "cell_type": "markdown",
   "id": "2dab410f",
   "metadata": {},
   "source": [
    "#### Train Test Split"
   ]
  },
  {
   "cell_type": "code",
   "execution_count": 225,
   "id": "cc3d6235",
   "metadata": {},
   "outputs": [],
   "source": [
    "from sklearn.model_selection import train_test_split"
   ]
  },
  {
   "cell_type": "code",
   "execution_count": 226,
   "id": "b5124ad3",
   "metadata": {},
   "outputs": [],
   "source": [
    "xtrain, xtest, ytrain, ytest = train_test_split(x,y, train_size=0.8,random_state=1)"
   ]
  },
  {
   "cell_type": "markdown",
   "id": "f487e8cc",
   "metadata": {},
   "source": [
    "### Applying Machine Learning Regression Algorithms "
   ]
  },
  {
   "cell_type": "code",
   "execution_count": 227,
   "id": "90d6a49b",
   "metadata": {},
   "outputs": [],
   "source": [
    "from sklearn.linear_model import LinearRegression\n",
    "from sklearn.tree import DecisionTreeRegressor\n",
    "from sklearn.ensemble import RandomForestRegressor\n",
    "import xgboost as xgb\n",
    "from sklearn.svm import SVR\n",
    "from sklearn.neighbors import KNeighborsRegressor\n",
    "from sklearn.gaussian_process import GaussianProcessRegressor\n",
    "from sklearn.linear_model import ElasticNet"
   ]
  },
  {
   "cell_type": "code",
   "execution_count": 228,
   "id": "541a5ebd",
   "metadata": {},
   "outputs": [],
   "source": [
    "# import evaluation metrics\n",
    "from sklearn.metrics import mean_absolute_error,mean_squared_error,r2_score"
   ]
  },
  {
   "cell_type": "code",
   "execution_count": 229,
   "id": "5c3d2c90",
   "metadata": {},
   "outputs": [],
   "source": [
    "# create a function to apply all the algorithm.\n",
    "\n",
    "def mymodel(model):\n",
    "    model.fit(xtrain,ytrain)\n",
    "    ypred = model.predict(xtest)\n",
    "    \n",
    "    train = model.score(xtrain,ytrain)\n",
    "    test = model.score(xtest,ytest)\n",
    "    print(f\"Training Result :- {train*100}\")\n",
    "    print(f\"Testing Result :- {test*100}\")\n",
    "    \n",
    "    mae = mean_absolute_error(ytest,ypred) # mean absolute error\n",
    "    mse = mean_squared_error(ytest,ypred) # mean squared error\n",
    "    rmse = np.sqrt(mse) # root mean squared error\n",
    "    r2 = r2_score(ytest,ypred) # Accuracy\n",
    "    print(f\"MAE :- {mae}\\nMSE:- {mse}\\nRMSE :- {rmse}\\nACCURACY:- {r2*100}\")\n",
    "#     return model"
   ]
  },
  {
   "cell_type": "code",
   "execution_count": 230,
   "id": "560e2f3f",
   "metadata": {},
   "outputs": [
    {
     "name": "stdout",
     "output_type": "stream",
     "text": [
      "Training Result :- 89.585284687766\n",
      "Testing Result :- 89.47344950027068\n",
      "MAE :- 1.0209003282677902\n",
      "MSE:- 1.9552218850113185\n",
      "RMSE :- 1.3982924890777746\n",
      "ACCURACY:- 89.47344950027068\n"
     ]
    }
   ],
   "source": [
    "reg = LinearRegression()\n",
    "mymodel(reg)"
   ]
  },
  {
   "cell_type": "code",
   "execution_count": 231,
   "id": "cdf171da",
   "metadata": {},
   "outputs": [
    {
     "data": {
      "text/plain": [
       "2.947515036029003"
      ]
     },
     "execution_count": 231,
     "metadata": {},
     "output_type": "execute_result"
    }
   ],
   "source": [
    "reg.intercept_"
   ]
  },
  {
   "cell_type": "code",
   "execution_count": 232,
   "id": "e81828a0",
   "metadata": {},
   "outputs": [
    {
     "data": {
      "text/plain": [
       "array([0.04686997, 0.1800065 ])"
      ]
     },
     "execution_count": 232,
     "metadata": {},
     "output_type": "execute_result"
    }
   ],
   "source": [
    "reg.coef_"
   ]
  },
  {
   "cell_type": "code",
   "execution_count": 233,
   "id": "5b0eecd7",
   "metadata": {},
   "outputs": [
    {
     "data": {
      "text/plain": [
       "array(['TV', 'Radio'], dtype=object)"
      ]
     },
     "execution_count": 233,
     "metadata": {},
     "output_type": "execute_result"
    }
   ],
   "source": [
    "reg.feature_names_in_"
   ]
  },
  {
   "cell_type": "code",
   "execution_count": 234,
   "id": "c429e98f",
   "metadata": {},
   "outputs": [
    {
     "data": {
      "text/plain": [
       "{'copy_X': True, 'fit_intercept': True, 'n_jobs': None, 'positive': False}"
      ]
     },
     "execution_count": 234,
     "metadata": {},
     "output_type": "execute_result"
    }
   ],
   "source": [
    "reg.get_params()"
   ]
  },
  {
   "cell_type": "code",
   "execution_count": 235,
   "id": "966b9aac",
   "metadata": {},
   "outputs": [
    {
     "data": {
      "text/plain": [
       "array([1105.30563656,  191.59052748])"
      ]
     },
     "execution_count": 235,
     "metadata": {},
     "output_type": "execute_result"
    }
   ],
   "source": [
    "reg.singular_"
   ]
  },
  {
   "cell_type": "code",
   "execution_count": 236,
   "id": "d5a762ec",
   "metadata": {},
   "outputs": [
    {
     "name": "stdout",
     "output_type": "stream",
     "text": [
      "Training Result :- 100.0\n",
      "Testing Result :- 97.45480204221516\n",
      "MAE :- 0.5225000000000002\n",
      "MSE:- 0.4727500000000001\n",
      "RMSE :- 0.6875681784376005\n",
      "ACCURACY:- 97.45480204221516\n"
     ]
    }
   ],
   "source": [
    "reg = DecisionTreeRegressor()\n",
    "mymodel(reg)"
   ]
  },
  {
   "cell_type": "code",
   "execution_count": 237,
   "id": "4ffb4412",
   "metadata": {},
   "outputs": [
    {
     "data": {
      "text/plain": [
       "{'ccp_alpha': 0.0,\n",
       " 'criterion': 'squared_error',\n",
       " 'max_depth': None,\n",
       " 'max_features': None,\n",
       " 'max_leaf_nodes': None,\n",
       " 'min_impurity_decrease': 0.0,\n",
       " 'min_samples_leaf': 1,\n",
       " 'min_samples_split': 2,\n",
       " 'min_weight_fraction_leaf': 0.0,\n",
       " 'random_state': None,\n",
       " 'splitter': 'best'}"
      ]
     },
     "execution_count": 237,
     "metadata": {},
     "output_type": "execute_result"
    }
   ],
   "source": [
    "reg.get_params()"
   ]
  },
  {
   "cell_type": "code",
   "execution_count": 238,
   "id": "486f89a6",
   "metadata": {},
   "outputs": [
    {
     "data": {
      "text/plain": [
       "<sklearn.tree._tree.Tree at 0x2a7ce0cf2f0>"
      ]
     },
     "execution_count": 238,
     "metadata": {},
     "output_type": "execute_result"
    }
   ],
   "source": [
    "reg.tree_"
   ]
  },
  {
   "cell_type": "code",
   "execution_count": 239,
   "id": "861b99d7",
   "metadata": {},
   "outputs": [
    {
     "name": "stdout",
     "output_type": "stream",
     "text": [
      "Training Result :- 99.73176685744937\n",
      "Testing Result :- 98.55975928968654\n",
      "MAE :- 0.4325499999999991\n",
      "MSE:- 0.26751309999999817\n",
      "RMSE :- 0.5172166857323903\n",
      "ACCURACY:- 98.55975928968654\n"
     ]
    }
   ],
   "source": [
    "reg = RandomForestRegressor()\n",
    "mymodel(reg)"
   ]
  },
  {
   "cell_type": "code",
   "execution_count": 240,
   "id": "736c1c8b",
   "metadata": {},
   "outputs": [
    {
     "name": "stdout",
     "output_type": "stream",
     "text": [
      "Training Result :- 99.99983733317039\n",
      "Testing Result :- 97.6682032925219\n",
      "MAE :- 0.5186453700065614\n",
      "MSE:- 0.433112438303105\n",
      "RMSE :- 0.6581127853970814\n",
      "ACCURACY:- 97.6682032925219\n"
     ]
    }
   ],
   "source": [
    "reg = xgb.XGBRegressor()\n",
    "mymodel(reg)"
   ]
  },
  {
   "cell_type": "code",
   "execution_count": 241,
   "id": "a50be460",
   "metadata": {},
   "outputs": [
    {
     "name": "stdout",
     "output_type": "stream",
     "text": [
      "Training Result :- 88.90667960582945\n",
      "Testing Result :- 90.70172702685618\n",
      "MAE :- 0.956160836868235\n",
      "MSE:- 1.7270792374356183\n",
      "RMSE :- 1.314183867438502\n",
      "ACCURACY:- 90.70172702685618\n"
     ]
    }
   ],
   "source": [
    "reg = SVR(kernel='linear')\n",
    "mymodel(reg)"
   ]
  },
  {
   "cell_type": "code",
   "execution_count": 242,
   "id": "3f768af1",
   "metadata": {},
   "outputs": [
    {
     "name": "stdout",
     "output_type": "stream",
     "text": [
      "Training Result :- 97.49799920976264\n",
      "Testing Result :- 95.59749396928736\n",
      "MAE :- 0.6954999999999998\n",
      "MSE:- 0.8177299999999998\n",
      "RMSE :- 0.9042842473470385\n",
      "ACCURACY:- 95.59749396928736\n"
     ]
    }
   ],
   "source": [
    "reg = KNeighborsRegressor()\n",
    "mymodel(reg)"
   ]
  },
  {
   "cell_type": "code",
   "execution_count": 243,
   "id": "a921ee0f",
   "metadata": {},
   "outputs": [
    {
     "name": "stdout",
     "output_type": "stream",
     "text": [
      "Training Result :- 100.0\n",
      "Testing Result :- -1056.0343208239838\n",
      "MAE :- 13.673452886655099\n",
      "MSE:- 214.72405456634334\n",
      "RMSE :- 14.653465616240526\n",
      "ACCURACY:- -1056.0343208239838\n"
     ]
    }
   ],
   "source": [
    "reg = GaussianProcessRegressor()\n",
    "mymodel(reg)"
   ]
  },
  {
   "cell_type": "code",
   "execution_count": 244,
   "id": "37f6b161",
   "metadata": {},
   "outputs": [
    {
     "name": "stdout",
     "output_type": "stream",
     "text": [
      "Training Result :- 89.58007363382985\n",
      "Testing Result :- 89.25314108231245\n",
      "MAE :- 1.0318387203899635\n",
      "MSE:- 1.9961423974104378\n",
      "RMSE :- 1.4128490356051624\n",
      "ACCURACY:- 89.25314108231245\n"
     ]
    }
   ],
   "source": [
    "reg = ElasticNet()\n",
    "mymodel(reg)"
   ]
  },
  {
   "cell_type": "code",
   "execution_count": 245,
   "id": "0f4865bf",
   "metadata": {},
   "outputs": [
    {
     "name": "stdout",
     "output_type": "stream",
     "text": [
      "Training Result :- 89.58397919172688\n",
      "Testing Result :- 89.36463661434917\n",
      "MAE :- 1.0263765814203354\n",
      "MSE:- 1.975433001267346\n",
      "RMSE :- 1.4055009787500492\n",
      "ACCURACY:- 89.36463661434917\n"
     ]
    }
   ],
   "source": [
    "reg = ElasticNet(alpha=0.5, l1_ratio=0.5)\n",
    "mymodel(reg)"
   ]
  },
  {
   "cell_type": "code",
   "execution_count": 246,
   "id": "ed0f8ad6",
   "metadata": {},
   "outputs": [
    {
     "name": "stdout",
     "output_type": "stream",
     "text": [
      "1 0.8958528466883332 0.8947299792107996\n",
      "2 0.8958528461203937 0.89472546322595\n",
      "3 0.8958528451739034 0.8947209470482108\n",
      "4 0.8958528438489238 0.8947164306776346\n",
      "5 0.895852842145517 0.8947119141142741\n",
      "6 0.8958528400637443 0.8947073973581819\n",
      "7 0.8958528376036679 0.8947028804094105\n",
      "8 0.8958528347653489 0.8946983632680126\n",
      "9 0.8958528315488494 0.8946938459340407\n",
      "10 0.895852827954231 0.8946893284075477\n",
      "11 0.8958528239815554 0.8946848106885856\n",
      "12 0.8958528196308841 0.8946802927772074\n",
      "13 0.8958528149022789 0.8946757746734656\n",
      "14 0.8958528097958013 0.8946712563774126\n",
      "15 0.895852804311513 0.8946667378891011\n",
      "16 0.8958527984494756 0.8946622192085836\n",
      "17 0.8958527922097508 0.8946577003359123\n",
      "18 0.8958527855924 0.8946531812711401\n",
      "19 0.895852778597485 0.8946486620143193\n",
      "20 0.8958527712250672 0.8946441425655025\n",
      "21 0.8958527634752083 0.894639622924742\n",
      "22 0.8958527553479697 0.8946351030920903\n",
      "23 0.895852746843413 0.8946305830676001\n",
      "24 0.8958527379615998 0.8946260628513235\n",
      "25 0.8958527287025917 0.8946215424433132\n",
      "26 0.8958527190664499 0.8946170218436215\n",
      "27 0.8958527090532362 0.8946125010523006\n",
      "28 0.8958526986630121 0.8946079800694035\n",
      "29 0.8958526878958388 0.8946034588949819\n",
      "30 0.895852676751778 0.8945989375290887\n",
      "31 0.8958526652308912 0.8945944159717762\n",
      "32 0.8958526533332398 0.8945898942230965\n",
      "33 0.8958526410588851 0.8945853722831021\n",
      "34 0.8958526284078887 0.8945808501518454\n",
      "35 0.895852615380312 0.8945763278293788\n",
      "36 0.8958526019762163 0.8945718053157544\n",
      "37 0.8958525881956632 0.8945672826110247\n",
      "38 0.8958525740387139 0.894562759715242\n",
      "39 0.8958525595054299 0.8945582366284585\n",
      "40 0.8958525445958725 0.8945537133507265\n",
      "41 0.8958525293101032 0.8945491898820984\n",
      "42 0.8958525136481832 0.8945446662226263\n",
      "43 0.8958524976101739 0.8945401423723627\n",
      "44 0.8958524811961366 0.8945356183313595\n",
      "45 0.8958524644061328 0.8945310940996694\n",
      "46 0.8958524472402235 0.8945265696773441\n",
      "47 0.8958524296984702 0.8945220450644363\n",
      "48 0.8958524117809342 0.894517520260998\n",
      "49 0.8958523934876768 0.8945129952670813\n"
     ]
    }
   ],
   "source": [
    "from sklearn.linear_model import Ridge,Lasso\n",
    "for i in range(1,50):\n",
    "    l2 = Ridge(alpha=i)\n",
    "    l2.fit(xtrain,ytrain)\n",
    "    \n",
    "    train = l2.score(xtrain,ytrain)\n",
    "    test = l2.score(xtest,ytest)\n",
    "    \n",
    "    print(f\"{i} {train} {test}\")"
   ]
  },
  {
   "cell_type": "code",
   "execution_count": 247,
   "id": "e9ba514f",
   "metadata": {},
   "outputs": [
    {
     "name": "stdout",
     "output_type": "stream",
     "text": [
      "1 0.8957019952025785 0.8909880092930791\n",
      "2 0.8952494337259853 0.886897359920668\n",
      "3 0.8944951624460401 0.8824621683523532\n",
      "4 0.8934391813627428 0.8776824345881352\n",
      "5 0.8920814904760933 0.8725581586280134\n",
      "6 0.8904220897860919 0.8670893404719883\n",
      "7 0.8884609792927384 0.8612759801200597\n",
      "8 0.8861981589960327 0.8551180775722275\n",
      "9 0.8836336288959751 0.8486156328284917\n",
      "10 0.8807673889925652 0.8417686458888526\n",
      "11 0.8775994392858034 0.8345771167533098\n",
      "12 0.8741297797756895 0.8270410454218636\n",
      "13 0.8703584104622234 0.8191604318945138\n",
      "14 0.8662853313454053 0.8109352761712605\n",
      "15 0.8619105424252352 0.8023655782521038\n",
      "16 0.857234043701713 0.7934513381370436\n",
      "17 0.8522558351748387 0.7841925558260798\n",
      "18 0.8469759168446123 0.7745892313192123\n",
      "19 0.8413942887110337 0.7646413646164416\n",
      "20 0.8355109507741032 0.7543489557177674\n",
      "21 0.8293259030338207 0.7437120046231896\n",
      "22 0.822839145490186 0.7327305113327083\n",
      "23 0.8160506781431992 0.7214044758463234\n",
      "24 0.8089605009928604 0.7097338981640351\n",
      "25 0.8015686140391693 0.6977187782858432\n",
      "26 0.7938750172821264 0.6853591162117478\n",
      "27 0.7858797107217314 0.672654911941749\n",
      "28 0.7775826943579843 0.6596061654758467\n",
      "29 0.7689839681908849 0.6462128768140407\n",
      "30 0.7600835322204337 0.6324750459563313\n",
      "31 0.7508813864466303 0.6183926729027186\n",
      "32 0.7413775308694748 0.6039657576532019\n",
      "33 0.7315719654889674 0.5891943002077822\n",
      "34 0.7214646903051077 0.5740783005664586\n",
      "35 0.711055705317896 0.5586177587292316\n",
      "36 0.7003450105273322 0.5428126746961013\n",
      "37 0.6893326059334164 0.5266630484670674\n",
      "38 0.6780184915361485 0.5101688800421298\n",
      "39 0.6664026673355286 0.4933301694212888\n",
      "40 0.6544851333315564 0.4761469166045442\n",
      "41 0.6422658895242322 0.45861912159189633\n",
      "42 0.6314171209243831 0.44325990307065244\n",
      "43 0.6310330615381858 0.4436762334802692\n",
      "44 0.6306399654605483 0.4440810235195831\n",
      "45 0.630237832691471 0.44447427318859467\n",
      "46 0.6298266632309539 0.4448559824873034\n",
      "47 0.6294064570789968 0.4452261514157094\n",
      "48 0.6289772142355996 0.44558477997381285\n",
      "49 0.6285389347007626 0.4459318681616139\n"
     ]
    }
   ],
   "source": [
    "from sklearn.linear_model import Ridge,Lasso\n",
    "for i in range(1,50):\n",
    "    l1 = Lasso(alpha=i)\n",
    "    l1.fit(xtrain,ytrain)\n",
    "    \n",
    "    train = l1.score(xtrain,ytrain)\n",
    "    test = l1.score(xtest,ytest)\n",
    "    \n",
    "    print(f\"{i} {train} {test}\")"
   ]
  },
  {
   "cell_type": "code",
   "execution_count": 248,
   "id": "80d9c1ad",
   "metadata": {},
   "outputs": [],
   "source": [
    "# let check by scaling the input features\n",
    "from sklearn.preprocessing import StandardScaler"
   ]
  },
  {
   "cell_type": "code",
   "execution_count": 249,
   "id": "cc361a7a",
   "metadata": {},
   "outputs": [],
   "source": [
    "ss = StandardScaler()"
   ]
  },
  {
   "cell_type": "code",
   "execution_count": 250,
   "id": "7c39b662",
   "metadata": {},
   "outputs": [],
   "source": [
    "xtrain = ss.fit_transform(xtrain)\n",
    "xtest = ss.transform(xtest)"
   ]
  },
  {
   "cell_type": "markdown",
   "id": "89191502",
   "metadata": {},
   "source": [
    "### Applying Machine Learning Regression Algorithms after Scaling."
   ]
  },
  {
   "cell_type": "code",
   "execution_count": 251,
   "id": "488d35b4",
   "metadata": {},
   "outputs": [],
   "source": [
    "from sklearn.linear_model import LinearRegression\n",
    "from sklearn.tree import DecisionTreeRegressor\n",
    "from sklearn.ensemble import RandomForestRegressor\n",
    "import xgboost as xgb\n",
    "from sklearn.svm import SVR\n",
    "from sklearn.neighbors import KNeighborsRegressor\n",
    "from sklearn.gaussian_process import GaussianProcessRegressor\n",
    "from sklearn.linear_model import ElasticNet"
   ]
  },
  {
   "cell_type": "code",
   "execution_count": 252,
   "id": "452db4c5",
   "metadata": {},
   "outputs": [],
   "source": [
    "# import evaluation metrics\n",
    "from sklearn.metrics import mean_absolute_error,mean_squared_error,r2_score"
   ]
  },
  {
   "cell_type": "code",
   "execution_count": 253,
   "id": "944bc58a",
   "metadata": {},
   "outputs": [],
   "source": [
    "# create a function to apply all the algorithm.\n",
    "\n",
    "def mymodel(model):\n",
    "    model.fit(xtrain,ytrain)\n",
    "    ypred = model.predict(xtest)\n",
    "    \n",
    "    train = model.score(xtrain,ytrain)\n",
    "    test = model.score(xtest,ytest)\n",
    "    print(f\"Training Result :- {train*100}\")\n",
    "    print(f\"Testing Result :- {test*100}\")\n",
    "    \n",
    "    mae = mean_absolute_error(ytest,ypred) # mean absolute error\n",
    "    mse = mean_squared_error(ytest,ypred) # mean squared error\n",
    "    rmse = np.sqrt(mse) # root mean squared error\n",
    "    r2 = r2_score(ytest,ypred) # Accuracy\n",
    "    print(f\"MAE :- {mae}\\nMSE:- {mse}\\nRMSE :- {rmse}\\nACCURACY:- {r2*100}\")\n",
    "#     return model"
   ]
  },
  {
   "cell_type": "code",
   "execution_count": 254,
   "id": "35ed1dcc",
   "metadata": {},
   "outputs": [
    {
     "name": "stdout",
     "output_type": "stream",
     "text": [
      "Training Result :- 89.585284687766\n",
      "Testing Result :- 89.47344950027066\n",
      "MAE :- 1.0209003282677904\n",
      "MSE:- 1.9552218850113203\n",
      "RMSE :- 1.3982924890777753\n",
      "ACCURACY:- 89.47344950027066\n"
     ]
    }
   ],
   "source": [
    "reg = LinearRegression()\n",
    "mymodel(reg)"
   ]
  },
  {
   "cell_type": "code",
   "execution_count": 255,
   "id": "d930406e",
   "metadata": {},
   "outputs": [
    {
     "data": {
      "text/plain": [
       "13.811250000000001"
      ]
     },
     "execution_count": 255,
     "metadata": {},
     "output_type": "execute_result"
    }
   ],
   "source": [
    "reg.intercept_"
   ]
  },
  {
   "cell_type": "code",
   "execution_count": 256,
   "id": "068f8b6d",
   "metadata": {},
   "outputs": [
    {
     "data": {
      "text/plain": [
       "array([4.09521919, 2.73481621])"
      ]
     },
     "execution_count": 256,
     "metadata": {},
     "output_type": "execute_result"
    }
   ],
   "source": [
    "reg.coef_"
   ]
  },
  {
   "cell_type": "code",
   "execution_count": 257,
   "id": "5315b828",
   "metadata": {},
   "outputs": [
    {
     "data": {
      "text/plain": [
       "{'copy_X': True, 'fit_intercept': True, 'n_jobs': None, 'positive': False}"
      ]
     },
     "execution_count": 257,
     "metadata": {},
     "output_type": "execute_result"
    }
   ],
   "source": [
    "reg.get_params()"
   ]
  },
  {
   "cell_type": "code",
   "execution_count": 258,
   "id": "1f22dd4f",
   "metadata": {},
   "outputs": [
    {
     "data": {
      "text/plain": [
       "array([13.12610024, 12.15341484])"
      ]
     },
     "execution_count": 258,
     "metadata": {},
     "output_type": "execute_result"
    }
   ],
   "source": [
    "reg.singular_"
   ]
  },
  {
   "cell_type": "code",
   "execution_count": 259,
   "id": "5ab2a8c0",
   "metadata": {},
   "outputs": [
    {
     "name": "stdout",
     "output_type": "stream",
     "text": [
      "Training Result :- 100.0\n",
      "Testing Result :- 96.58935397936183\n",
      "MAE :- 0.5500000000000002\n",
      "MSE:- 0.6335000000000001\n",
      "RMSE :- 0.7959271323431562\n",
      "ACCURACY:- 96.58935397936183\n"
     ]
    }
   ],
   "source": [
    "reg = DecisionTreeRegressor()\n",
    "mymodel(reg)"
   ]
  },
  {
   "cell_type": "code",
   "execution_count": 260,
   "id": "70e479d7",
   "metadata": {},
   "outputs": [
    {
     "data": {
      "text/plain": [
       "{'ccp_alpha': 0.0,\n",
       " 'criterion': 'squared_error',\n",
       " 'max_depth': None,\n",
       " 'max_features': None,\n",
       " 'max_leaf_nodes': None,\n",
       " 'min_impurity_decrease': 0.0,\n",
       " 'min_samples_leaf': 1,\n",
       " 'min_samples_split': 2,\n",
       " 'min_weight_fraction_leaf': 0.0,\n",
       " 'random_state': None,\n",
       " 'splitter': 'best'}"
      ]
     },
     "execution_count": 260,
     "metadata": {},
     "output_type": "execute_result"
    }
   ],
   "source": [
    "reg.get_params()"
   ]
  },
  {
   "cell_type": "code",
   "execution_count": 261,
   "id": "f9bc6dee",
   "metadata": {},
   "outputs": [
    {
     "data": {
      "text/plain": [
       "<sklearn.tree._tree.Tree at 0x2a7cdc31d80>"
      ]
     },
     "execution_count": 261,
     "metadata": {},
     "output_type": "execute_result"
    }
   ],
   "source": [
    "reg.tree_"
   ]
  },
  {
   "cell_type": "code",
   "execution_count": 262,
   "id": "db4ad6e9",
   "metadata": {},
   "outputs": [
    {
     "name": "stdout",
     "output_type": "stream",
     "text": [
      "Training Result :- 99.69522503574582\n",
      "Testing Result :- 98.38984047423325\n",
      "MAE :- 0.4606499999999987\n",
      "MSE:- 0.29907414999999854\n",
      "RMSE :- 0.5468767228544277\n",
      "ACCURACY:- 98.38984047423325\n"
     ]
    }
   ],
   "source": [
    "reg = RandomForestRegressor()\n",
    "mymodel(reg)"
   ]
  },
  {
   "cell_type": "code",
   "execution_count": 263,
   "id": "068ab569",
   "metadata": {},
   "outputs": [
    {
     "name": "stdout",
     "output_type": "stream",
     "text": [
      "Training Result :- 99.99983733317039\n",
      "Testing Result :- 97.66729478037321\n",
      "MAE :- 0.5202042937278748\n",
      "MSE:- 0.4332811871098414\n",
      "RMSE :- 0.658240979512702\n",
      "ACCURACY:- 97.66729478037321\n"
     ]
    }
   ],
   "source": [
    "reg = xgb.XGBRegressor()\n",
    "mymodel(reg)"
   ]
  },
  {
   "cell_type": "code",
   "execution_count": 264,
   "id": "615bda31",
   "metadata": {},
   "outputs": [
    {
     "name": "stdout",
     "output_type": "stream",
     "text": [
      "Training Result :- 88.83174343379835\n",
      "Testing Result :- 90.5174992955503\n",
      "MAE :- 0.9633341529496725\n",
      "MSE:- 1.7612980531896028\n",
      "RMSE :- 1.327139048174532\n",
      "ACCURACY:- 90.5174992955503\n"
     ]
    }
   ],
   "source": [
    "reg = SVR(kernel='linear')\n",
    "mymodel(reg)"
   ]
  },
  {
   "cell_type": "code",
   "execution_count": 265,
   "id": "e285c4a4",
   "metadata": {},
   "outputs": [
    {
     "name": "stdout",
     "output_type": "stream",
     "text": [
      "Training Result :- 98.35018359194088\n",
      "Testing Result :- 99.12033866880495\n",
      "MAE :- 0.31650000000000017\n",
      "MSE:- 0.1633900000000001\n",
      "RMSE :- 0.4042152891715009\n",
      "ACCURACY:- 99.12033866880495\n"
     ]
    }
   ],
   "source": [
    "reg = KNeighborsRegressor()\n",
    "mymodel(reg)"
   ]
  },
  {
   "cell_type": "code",
   "execution_count": 266,
   "id": "6190e109",
   "metadata": {},
   "outputs": [
    {
     "name": "stdout",
     "output_type": "stream",
     "text": [
      "Training Result :- 99.874355240035\n",
      "Testing Result :- 88.45003513522663\n",
      "MAE :- 0.5978841798007488\n",
      "MSE:- 2.1453128520399334\n",
      "RMSE :- 1.4646886536188957\n",
      "ACCURACY:- 88.45003513522663\n"
     ]
    }
   ],
   "source": [
    "reg = GaussianProcessRegressor()\n",
    "mymodel(reg)"
   ]
  },
  {
   "cell_type": "code",
   "execution_count": 267,
   "id": "3c41a67c",
   "metadata": {},
   "outputs": [
    {
     "name": "stdout",
     "output_type": "stream",
     "text": [
      "Training Result :- 74.66179008263796\n",
      "Testing Result :- 73.9694908707566\n",
      "MAE :- 1.6875448980443366\n",
      "MSE:- 4.834957199777106\n",
      "RMSE :- 2.198853610356339\n",
      "ACCURACY:- 73.9694908707566\n"
     ]
    }
   ],
   "source": [
    "reg = ElasticNet()\n",
    "mymodel(reg)"
   ]
  },
  {
   "cell_type": "code",
   "execution_count": 268,
   "id": "2ef80fba",
   "metadata": {},
   "outputs": [
    {
     "name": "stdout",
     "output_type": "stream",
     "text": [
      "Training Result :- 84.31064498760772\n",
      "Testing Result :- 84.22174011636831\n",
      "MAE :- 1.265271356841462\n",
      "MSE:- 2.9306845611642736\n",
      "RMSE :- 1.71192422763517\n",
      "ACCURACY:- 84.22174011636831\n"
     ]
    }
   ],
   "source": [
    "reg = ElasticNet(alpha=0.5, l1_ratio=0.5)\n",
    "mymodel(reg)"
   ]
  },
  {
   "cell_type": "code",
   "execution_count": 269,
   "id": "90725c61",
   "metadata": {},
   "outputs": [
    {
     "name": "stdout",
     "output_type": "stream",
     "text": [
      "1 0.8958226646105728 0.8949469374820359\n",
      "2 0.8957335091641688 0.8950903866462724\n",
      "3 0.8955874137041937 0.8951671822440685\n",
      "4 0.8953863417615385 0.8951795840625996\n",
      "5 0.8951321898690918 0.895129774960944\n",
      "6 0.8948267900867624 0.895019863774342\n",
      "7 0.8944719124199652 0.8948518880954631\n",
      "8 0.8940692671365795 0.8946278169385057\n",
      "9 0.893620506987135 0.8943495532916301\n",
      "10 0.8931272293327277 0.8940189365629572\n",
      "11 0.8925909781849404 0.8936377449250769\n",
      "12 0.8920132461618235 0.8932076975627717\n",
      "13 0.8913954763637827 0.8927304568284065\n",
      "14 0.8907390641730248 0.8922076303092167\n",
      "15 0.8900453589800343 0.89164077281051\n",
      "16 0.8893156658403711 0.8910313882585933\n",
      "17 0.8885512470649226 0.8903809315270466\n",
      "18 0.8877533237465814 0.8896908101897855\n",
      "19 0.886923077226181 0.8889623862041791\n",
      "20 0.8860616505003726 0.8881969775273361\n",
      "21 0.8851701495740049 0.8873958596685083\n",
      "22 0.884249644759437 0.886560267180429\n",
      "23 0.8833011719250995 0.8856913950922556\n",
      "24 0.8823257336955087 0.8847904002866621\n",
      "25 0.881324300604829 0.8838584028235055\n",
      "26 0.8802978122059834 0.8828964872123694\n",
      "27 0.8792471781372138 0.8819057036361814\n",
      "28 0.8781732791479036 0.8808870691279975\n",
      "29 0.8770769680853913 0.8798415687029448\n",
      "30 0.8759590708444194 0.8787701564472209\n",
      "31 0.874820387280792 0.8776737565659628\n",
      "32 0.8736616920907347 0.8765532643917092\n",
      "33 0.8724837356573875 0.8754095473551028\n",
      "34 0.8712872448657907 0.8742434459194028\n",
      "35 0.8700729238876673 0.8730557744803056\n",
      "36 0.8688414549372389 0.8718473222325028\n",
      "37 0.8675934989992619 0.8706188540043414\n",
      "38 0.8663296965304168 0.8693711110618888\n",
      "39 0.8650506681351269 0.8681048118836466\n",
      "40 0.8637570152168429 0.8668206529071012\n",
      "41 0.8624493206057767 0.8655193092482457\n",
      "42 0.8611281491640282 0.8642014353951603\n",
      "43 0.8597940483690065 0.8628676658766838\n",
      "44 0.8584475488760053 0.8615186159071705\n",
      "45 0.857089165060757 0.8601548820082785\n",
      "46 0.8557193955427557 0.858777042608695\n",
      "47 0.854338723690098 0.8573856586226671\n",
      "48 0.8529476181065669 0.8559812740081647\n",
      "49 0.8515465331016479 0.8545644163054716\n"
     ]
    }
   ],
   "source": [
    "from sklearn.linear_model import Ridge,Lasso\n",
    "for i in range(1,50):\n",
    "    l2 = Ridge(alpha=i)\n",
    "    l2.fit(xtrain,ytrain)\n",
    "    \n",
    "    train = l2.score(xtrain,ytrain)\n",
    "    test = l2.score(xtest,ytest)\n",
    "    \n",
    "    print(f\"{i} {train} {test}\")"
   ]
  },
  {
   "cell_type": "code",
   "execution_count": 270,
   "id": "18c5ed08",
   "metadata": {
    "scrolled": false
   },
   "outputs": [
    {
     "name": "stdout",
     "output_type": "stream",
     "text": [
      "1 0.8317875489134674 0.8148105888749102\n",
      "2 0.6395916495109448 0.5977590184417715\n",
      "3 0.32894094045631506 0.2565864687967063\n",
      "4 0.08748251865335266 0.02746073975842922\n",
      "5 0.0 -0.06006527537702655\n",
      "6 0.0 -0.06006527537702655\n",
      "7 0.0 -0.06006527537702655\n",
      "8 0.0 -0.06006527537702655\n",
      "9 0.0 -0.06006527537702655\n",
      "10 0.0 -0.06006527537702655\n",
      "11 0.0 -0.06006527537702655\n",
      "12 0.0 -0.06006527537702655\n",
      "13 0.0 -0.06006527537702655\n",
      "14 0.0 -0.06006527537702655\n",
      "15 0.0 -0.06006527537702655\n",
      "16 0.0 -0.06006527537702655\n",
      "17 0.0 -0.06006527537702655\n",
      "18 0.0 -0.06006527537702655\n",
      "19 0.0 -0.06006527537702655\n",
      "20 0.0 -0.06006527537702655\n",
      "21 0.0 -0.06006527537702655\n",
      "22 0.0 -0.06006527537702655\n",
      "23 0.0 -0.06006527537702655\n",
      "24 0.0 -0.06006527537702655\n",
      "25 0.0 -0.06006527537702655\n",
      "26 0.0 -0.06006527537702655\n",
      "27 0.0 -0.06006527537702655\n",
      "28 0.0 -0.06006527537702655\n",
      "29 0.0 -0.06006527537702655\n",
      "30 0.0 -0.06006527537702655\n",
      "31 0.0 -0.06006527537702655\n",
      "32 0.0 -0.06006527537702655\n",
      "33 0.0 -0.06006527537702655\n",
      "34 0.0 -0.06006527537702655\n",
      "35 0.0 -0.06006527537702655\n",
      "36 0.0 -0.06006527537702655\n",
      "37 0.0 -0.06006527537702655\n",
      "38 0.0 -0.06006527537702655\n",
      "39 0.0 -0.06006527537702655\n",
      "40 0.0 -0.06006527537702655\n",
      "41 0.0 -0.06006527537702655\n",
      "42 0.0 -0.06006527537702655\n",
      "43 0.0 -0.06006527537702655\n",
      "44 0.0 -0.06006527537702655\n",
      "45 0.0 -0.06006527537702655\n",
      "46 0.0 -0.06006527537702655\n",
      "47 0.0 -0.06006527537702655\n",
      "48 0.0 -0.06006527537702655\n",
      "49 0.0 -0.06006527537702655\n"
     ]
    }
   ],
   "source": [
    "from sklearn.linear_model import Ridge,Lasso\n",
    "for i in range(1,50):\n",
    "    l1 = Lasso(alpha=i)\n",
    "    l1.fit(xtrain,ytrain)\n",
    "    \n",
    "    train = l1.score(xtrain,ytrain)\n",
    "    test = l1.score(xtest,ytest)\n",
    "    \n",
    "    print(f\"{i} {train} {test}\")"
   ]
  },
  {
   "cell_type": "markdown",
   "id": "f0aba502",
   "metadata": {},
   "source": [
    "### Forecasting "
   ]
  },
  {
   "cell_type": "code",
   "execution_count": 271,
   "id": "b584c987",
   "metadata": {},
   "outputs": [],
   "source": [
    "# def pred():\n",
    "#     l1 = []\n",
    "#     for i in df.columns[:-1]:\n",
    "#         val = eval(input(f\"enter {i} value:-  \"))\n",
    "#         l1.append(val)\n",
    "#     v = linreg.predict([l1])[0]\n",
    "#     print(f'The sales would be approx {round(v,2)} USD Dollar for the above given parameter.')"
   ]
  },
  {
   "cell_type": "markdown",
   "id": "ea8792ad",
   "metadata": {},
   "source": [
    "#### Appliying Polynomial features."
   ]
  },
  {
   "cell_type": "markdown",
   "id": "1ae339b0",
   "metadata": {},
   "source": [
    "To perform polynomial feature transformation on the 'TV' and 'Radio' columns with a degree of 2, you can use the `PolynomialFeatures` class from scikit-learn. Here's an example of how you can do it:\n",
    "\n",
    "```python\n",
    "from sklearn.preprocessing import PolynomialFeatures\n",
    "\n",
    "# Select the 'TV' and 'Radio' columns from your DataFrame\n",
    "X = df[['TV', 'Radio']]\n",
    "\n",
    "# Create an instance of PolynomialFeatures with degree 2\n",
    "poly_features = PolynomialFeatures(degree=2)\n",
    "\n",
    "# Transform the selected columns to polynomial features\n",
    "X_poly = poly_features.fit_transform(X)\n",
    "\n",
    "# The transformed data is now stored in X_poly as a new array of polynomial features\n",
    "```\n",
    "\n",
    "In the code above, replace `df` with the actual name of your DataFrame containing the 'TV' and 'Radio' columns. After performing the polynomial feature transformation, the resulting polynomial features will be stored in the `X_poly` variable. You can use this transformed data for further analysis or as input for regression models."
   ]
  },
  {
   "cell_type": "code",
   "execution_count": 272,
   "id": "f2c65ac4",
   "metadata": {
    "scrolled": true
   },
   "outputs": [
    {
     "data": {
      "text/plain": [
       "<seaborn.axisgrid.PairGrid at 0x2a7d0bde950>"
      ]
     },
     "execution_count": 272,
     "metadata": {},
     "output_type": "execute_result"
    },
    {
     "data": {
      "image/png": "[encoded data removed]",
      "text/plain": [
       "<Figure size 750x750 with 12 Axes>"
      ]
     },
     "metadata": {},
     "output_type": "display_data"
    }
   ],
   "source": [
    "sns.pairplot(df)"
   ]
  },
  {
   "cell_type": "code",
   "execution_count": 273,
   "id": "c5324f20",
   "metadata": {},
   "outputs": [
    {
     "data": {
      "text/html": [
       "<div>\n",
       "<style scoped>\n",
       "    .dataframe tbody tr th:only-of-type {\n",
       "        vertical-align: middle;\n",
       "    }\n",
       "\n",
       "    .dataframe tbody tr th {\n",
       "        vertical-align: top;\n",
       "    }\n",
       "\n",
       "    .dataframe thead th {\n",
       "        text-align: right;\n",
       "    }\n",
       "</style>\n",
       "<table border=\"1\" class=\"dataframe\">\n",
       "  <thead>\n",
       "    <tr style=\"text-align: right;\">\n",
       "      <th></th>\n",
       "      <th>TV</th>\n",
       "      <th>Radio</th>\n",
       "      <th>Sales</th>\n",
       "    </tr>\n",
       "  </thead>\n",
       "  <tbody>\n",
       "    <tr>\n",
       "      <th>0</th>\n",
       "      <td>230.1</td>\n",
       "      <td>37.8</td>\n",
       "      <td>22.1</td>\n",
       "    </tr>\n",
       "    <tr>\n",
       "      <th>1</th>\n",
       "      <td>44.5</td>\n",
       "      <td>39.3</td>\n",
       "      <td>10.4</td>\n",
       "    </tr>\n",
       "    <tr>\n",
       "      <th>2</th>\n",
       "      <td>17.2</td>\n",
       "      <td>45.9</td>\n",
       "      <td>9.3</td>\n",
       "    </tr>\n",
       "    <tr>\n",
       "      <th>3</th>\n",
       "      <td>151.5</td>\n",
       "      <td>41.3</td>\n",
       "      <td>18.5</td>\n",
       "    </tr>\n",
       "    <tr>\n",
       "      <th>4</th>\n",
       "      <td>180.8</td>\n",
       "      <td>10.8</td>\n",
       "      <td>12.9</td>\n",
       "    </tr>\n",
       "    <tr>\n",
       "      <th>...</th>\n",
       "      <td>...</td>\n",
       "      <td>...</td>\n",
       "      <td>...</td>\n",
       "    </tr>\n",
       "    <tr>\n",
       "      <th>195</th>\n",
       "      <td>38.2</td>\n",
       "      <td>3.7</td>\n",
       "      <td>7.6</td>\n",
       "    </tr>\n",
       "    <tr>\n",
       "      <th>196</th>\n",
       "      <td>94.2</td>\n",
       "      <td>4.9</td>\n",
       "      <td>9.7</td>\n",
       "    </tr>\n",
       "    <tr>\n",
       "      <th>197</th>\n",
       "      <td>177.0</td>\n",
       "      <td>9.3</td>\n",
       "      <td>12.8</td>\n",
       "    </tr>\n",
       "    <tr>\n",
       "      <th>198</th>\n",
       "      <td>283.6</td>\n",
       "      <td>42.0</td>\n",
       "      <td>25.5</td>\n",
       "    </tr>\n",
       "    <tr>\n",
       "      <th>199</th>\n",
       "      <td>232.1</td>\n",
       "      <td>8.6</td>\n",
       "      <td>13.4</td>\n",
       "    </tr>\n",
       "  </tbody>\n",
       "</table>\n",
       "<p>200 rows × 3 columns</p>\n",
       "</div>"
      ],
      "text/plain": [
       "        TV  Radio  Sales\n",
       "0    230.1   37.8   22.1\n",
       "1     44.5   39.3   10.4\n",
       "2     17.2   45.9    9.3\n",
       "3    151.5   41.3   18.5\n",
       "4    180.8   10.8   12.9\n",
       "..     ...    ...    ...\n",
       "195   38.2    3.7    7.6\n",
       "196   94.2    4.9    9.7\n",
       "197  177.0    9.3   12.8\n",
       "198  283.6   42.0   25.5\n",
       "199  232.1    8.6   13.4\n",
       "\n",
       "[200 rows x 3 columns]"
      ]
     },
     "execution_count": 273,
     "metadata": {},
     "output_type": "execute_result"
    }
   ],
   "source": [
    "df"
   ]
  },
  {
   "cell_type": "code",
   "execution_count": 274,
   "id": "100ce4fd",
   "metadata": {},
   "outputs": [],
   "source": [
    "from sklearn.preprocessing import PolynomialFeatures\n",
    "\n",
    "# Select the 'TV' and 'Radio' columns from your DataFrame\n",
    "X = df[['TV', 'Radio']]\n",
    "\n",
    "# Create an instance of PolynomialFeatures with degree 2\n",
    "poly_features = PolynomialFeatures(degree=2)\n",
    "\n",
    "# Transform the selected columns to polynomial features\n",
    "X_poly = poly_features.fit_transform(X)\n",
    "\n",
    "# The transformed data is now stored in X_poly as a new array of polynomial features"
   ]
  },
  {
   "cell_type": "code",
   "execution_count": 276,
   "id": "77dd7b6a",
   "metadata": {},
   "outputs": [
    {
     "data": {
      "text/plain": [
       "(200, 6)"
      ]
     },
     "execution_count": 276,
     "metadata": {},
     "output_type": "execute_result"
    }
   ],
   "source": [
    "X_poly.shape"
   ]
  },
  {
   "cell_type": "code",
   "execution_count": 279,
   "id": "05cd30de",
   "metadata": {},
   "outputs": [],
   "source": [
    "# Separate x and y\n",
    "x = X_poly\n",
    "y = df.iloc[:,-1]"
   ]
  },
  {
   "cell_type": "code",
   "execution_count": 280,
   "id": "daf0c010",
   "metadata": {},
   "outputs": [
    {
     "data": {
      "text/plain": [
       "array([[1.000000e+00, 2.301000e+02, 3.780000e+01, 5.294601e+04,\n",
       "        8.697780e+03, 1.428840e+03],\n",
       "       [1.000000e+00, 4.450000e+01, 3.930000e+01, 1.980250e+03,\n",
       "        1.748850e+03, 1.544490e+03],\n",
       "       [1.000000e+00, 1.720000e+01, 4.590000e+01, 2.958400e+02,\n",
       "        7.894800e+02, 2.106810e+03],\n",
       "       ...,\n",
       "       [1.000000e+00, 1.770000e+02, 9.300000e+00, 3.132900e+04,\n",
       "        1.646100e+03, 8.649000e+01],\n",
       "       [1.000000e+00, 2.836000e+02, 4.200000e+01, 8.042896e+04,\n",
       "        1.191120e+04, 1.764000e+03],\n",
       "       [1.000000e+00, 2.321000e+02, 8.600000e+00, 5.387041e+04,\n",
       "        1.996060e+03, 7.396000e+01]])"
      ]
     },
     "execution_count": 280,
     "metadata": {},
     "output_type": "execute_result"
    }
   ],
   "source": [
    "x"
   ]
  },
  {
   "cell_type": "code",
   "execution_count": 281,
   "id": "9f1d0ec1",
   "metadata": {},
   "outputs": [
    {
     "data": {
      "text/plain": [
       "0      22.1\n",
       "1      10.4\n",
       "2       9.3\n",
       "3      18.5\n",
       "4      12.9\n",
       "       ... \n",
       "195     7.6\n",
       "196     9.7\n",
       "197    12.8\n",
       "198    25.5\n",
       "199    13.4\n",
       "Name: Sales, Length: 200, dtype: float64"
      ]
     },
     "execution_count": 281,
     "metadata": {},
     "output_type": "execute_result"
    }
   ],
   "source": [
    "y"
   ]
  },
  {
   "cell_type": "markdown",
   "id": "465c9ae1",
   "metadata": {},
   "source": [
    "#### train test split"
   ]
  },
  {
   "cell_type": "code",
   "execution_count": 282,
   "id": "750b5d77",
   "metadata": {},
   "outputs": [],
   "source": [
    "xtrain,xtest,ytrain,ytest = train_test_split(x,y,test_size=0.2,random_state=1)"
   ]
  },
  {
   "cell_type": "code",
   "execution_count": 283,
   "id": "bb6c80ac",
   "metadata": {},
   "outputs": [
    {
     "data": {
      "text/plain": [
       "array([[1.000000e+00, 1.310000e+01, 4.000000e-01, 1.716100e+02,\n",
       "        5.240000e+00, 1.600000e-01],\n",
       "       [1.000000e+00, 9.040000e+01, 3.000000e-01, 8.172160e+03,\n",
       "        2.712000e+01, 9.000000e-02],\n",
       "       [1.000000e+00, 1.870000e+01, 1.210000e+01, 3.496900e+02,\n",
       "        2.262700e+02, 1.464100e+02],\n",
       "       [1.000000e+00, 2.041000e+02, 3.290000e+01, 4.165681e+04,\n",
       "        6.714890e+03, 1.082410e+03],\n",
       "       [1.000000e+00, 7.300000e+00, 2.810000e+01, 5.329000e+01,\n",
       "        2.051300e+02, 7.896100e+02],\n",
       "       [1.000000e+00, 1.473000e+02, 2.390000e+01, 2.169729e+04,\n",
       "        3.520470e+03, 5.712100e+02],\n",
       "       [1.000000e+00, 7.820000e+01, 4.680000e+01, 6.115240e+03,\n",
       "        3.659760e+03, 2.190240e+03],\n",
       "       [1.000000e+00, 2.280000e+02, 3.770000e+01, 5.198400e+04,\n",
       "        8.595600e+03, 1.421290e+03],\n",
       "       [1.000000e+00, 2.050000e+02, 4.510000e+01, 4.202500e+04,\n",
       "        9.245500e+03, 2.034010e+03],\n",
       "       [1.000000e+00, 2.295000e+02, 3.230000e+01, 5.267025e+04,\n",
       "        7.412850e+03, 1.043290e+03],\n",
       "       [1.000000e+00, 2.897000e+02, 4.230000e+01, 8.392609e+04,\n",
       "        1.225431e+04, 1.789290e+03],\n",
       "       [1.000000e+00, 1.231000e+02, 3.460000e+01, 1.515361e+04,\n",
       "        4.259260e+03, 1.197160e+03],\n",
       "       [1.000000e+00, 1.940000e+01, 1.600000e+01, 3.763600e+02,\n",
       "        3.104000e+02, 2.560000e+02],\n",
       "       [1.000000e+00, 1.826000e+02, 4.620000e+01, 3.334276e+04,\n",
       "        8.436120e+03, 2.134440e+03],\n",
       "       [1.000000e+00, 2.656000e+02, 2.000000e+01, 7.054336e+04,\n",
       "        5.312000e+03, 4.000000e+02],\n",
       "       [1.000000e+00, 1.656000e+02, 1.000000e+01, 2.742336e+04,\n",
       "        1.656000e+03, 1.000000e+02],\n",
       "       [1.000000e+00, 2.185000e+02, 5.400000e+00, 4.774225e+04,\n",
       "        1.179900e+03, 2.916000e+01],\n",
       "       [1.000000e+00, 2.500000e+01, 1.100000e+01, 6.250000e+02,\n",
       "        2.750000e+02, 1.210000e+02],\n",
       "       [1.000000e+00, 2.321000e+02, 8.600000e+00, 5.387041e+04,\n",
       "        1.996060e+03, 7.396000e+01],\n",
       "       [1.000000e+00, 4.300000e+01, 2.590000e+01, 1.849000e+03,\n",
       "        1.113700e+03, 6.708100e+02],\n",
       "       [1.000000e+00, 1.392000e+02, 1.430000e+01, 1.937664e+04,\n",
       "        1.990560e+03, 2.044900e+02],\n",
       "       [1.000000e+00, 1.393000e+02, 1.450000e+01, 1.940449e+04,\n",
       "        2.019850e+03, 2.102500e+02],\n",
       "       [1.000000e+00, 5.400000e+00, 2.990000e+01, 2.916000e+01,\n",
       "        1.614600e+02, 8.940100e+02],\n",
       "       [1.000000e+00, 2.936000e+02, 2.770000e+01, 8.620096e+04,\n",
       "        8.132720e+03, 7.672900e+02],\n",
       "       [1.000000e+00, 2.814000e+02, 3.960000e+01, 7.918596e+04,\n",
       "        1.114344e+04, 1.568160e+03],\n",
       "       [1.000000e+00, 8.700000e+00, 4.890000e+01, 7.569000e+01,\n",
       "        4.254300e+02, 2.391210e+03],\n",
       "       [1.000000e+00, 8.020000e+01, 0.000000e+00, 6.432040e+03,\n",
       "        0.000000e+00, 0.000000e+00],\n",
       "       [1.000000e+00, 1.379000e+02, 4.640000e+01, 1.901641e+04,\n",
       "        6.398560e+03, 2.152960e+03],\n",
       "       [1.000000e+00, 2.272000e+02, 1.580000e+01, 5.161984e+04,\n",
       "        3.589760e+03, 2.496400e+02],\n",
       "       [1.000000e+00, 3.150000e+01, 2.460000e+01, 9.922500e+02,\n",
       "        7.749000e+02, 6.051600e+02],\n",
       "       [1.000000e+00, 2.627000e+02, 2.880000e+01, 6.901129e+04,\n",
       "        7.565760e+03, 8.294400e+02],\n",
       "       [1.000000e+00, 2.135000e+02, 4.300000e+01, 4.558225e+04,\n",
       "        9.180500e+03, 1.849000e+03],\n",
       "       [1.000000e+00, 2.876000e+02, 4.300000e+01, 8.271376e+04,\n",
       "        1.236680e+04, 1.849000e+03],\n",
       "       [1.000000e+00, 1.170000e+01, 3.690000e+01, 1.368900e+02,\n",
       "        4.317300e+02, 1.361610e+03],\n",
       "       [1.000000e+00, 1.790000e+01, 3.760000e+01, 3.204100e+02,\n",
       "        6.730400e+02, 1.413760e+03],\n",
       "       [1.000000e+00, 2.096000e+02, 2.060000e+01, 4.393216e+04,\n",
       "        4.317760e+03, 4.243600e+02],\n",
       "       [1.000000e+00, 2.380000e+01, 3.510000e+01, 5.664400e+02,\n",
       "        8.353800e+02, 1.232010e+03],\n",
       "       [1.000000e+00, 7.640000e+01, 8.000000e-01, 5.836960e+03,\n",
       "        6.112000e+01, 6.400000e-01],\n",
       "       [1.000000e+00, 2.509000e+02, 3.650000e+01, 6.295081e+04,\n",
       "        9.157850e+03, 1.332250e+03],\n",
       "       [1.000000e+00, 1.413000e+02, 2.680000e+01, 1.996569e+04,\n",
       "        3.786840e+03, 7.182400e+02],\n",
       "       [1.000000e+00, 1.878000e+02, 2.110000e+01, 3.526884e+04,\n",
       "        3.962580e+03, 4.452100e+02],\n",
       "       [1.000000e+00, 1.343000e+02, 4.900000e+00, 1.803649e+04,\n",
       "        6.580700e+02, 2.401000e+01],\n",
       "       [1.000000e+00, 2.398000e+02, 4.100000e+00, 5.750404e+04,\n",
       "        9.831800e+02, 1.681000e+01],\n",
       "       [1.000000e+00, 2.240000e+02, 2.400000e+00, 5.017600e+04,\n",
       "        5.376000e+02, 5.760000e+00],\n",
       "       [1.000000e+00, 7.550000e+01, 1.080000e+01, 5.700250e+03,\n",
       "        8.154000e+02, 1.166400e+02],\n",
       "       [1.000000e+00, 9.750000e+01, 7.600000e+00, 9.506250e+03,\n",
       "        7.410000e+02, 5.776000e+01],\n",
       "       [1.000000e+00, 7.530000e+01, 2.030000e+01, 5.670090e+03,\n",
       "        1.528590e+03, 4.120900e+02],\n",
       "       [1.000000e+00, 8.400000e+00, 2.720000e+01, 7.056000e+01,\n",
       "        2.284800e+02, 7.398400e+02],\n",
       "       [1.000000e+00, 1.911000e+02, 2.870000e+01, 3.651921e+04,\n",
       "        5.484570e+03, 8.236900e+02],\n",
       "       [1.000000e+00, 1.751000e+02, 2.250000e+01, 3.066001e+04,\n",
       "        3.939750e+03, 5.062500e+02],\n",
       "       [1.000000e+00, 1.352000e+02, 4.170000e+01, 1.827904e+04,\n",
       "        5.637840e+03, 1.738890e+03],\n",
       "       [1.000000e+00, 2.669000e+02, 4.380000e+01, 7.123561e+04,\n",
       "        1.169022e+04, 1.918440e+03],\n",
       "       [1.000000e+00, 8.570000e+01, 3.580000e+01, 7.344490e+03,\n",
       "        3.068060e+03, 1.281640e+03],\n",
       "       [1.000000e+00, 1.395000e+02, 2.100000e+00, 1.946025e+04,\n",
       "        2.929500e+02, 4.410000e+00],\n",
       "       [1.000000e+00, 1.713000e+02, 3.970000e+01, 2.934369e+04,\n",
       "        6.800610e+03, 1.576090e+03],\n",
       "       [1.000000e+00, 1.879000e+02, 1.720000e+01, 3.530641e+04,\n",
       "        3.231880e+03, 2.958400e+02],\n",
       "       [1.000000e+00, 3.820000e+01, 3.700000e+00, 1.459240e+03,\n",
       "        1.413400e+02, 1.369000e+01],\n",
       "       [1.000000e+00, 1.770000e+02, 9.300000e+00, 3.132900e+04,\n",
       "        1.646100e+03, 8.649000e+01],\n",
       "       [1.000000e+00, 3.800000e+01, 4.030000e+01, 1.444000e+03,\n",
       "        1.531400e+03, 1.624090e+03],\n",
       "       [1.000000e+00, 1.684000e+02, 7.100000e+00, 2.835856e+04,\n",
       "        1.195640e+03, 5.041000e+01],\n",
       "       [1.000000e+00, 1.690000e+01, 4.370000e+01, 2.856100e+02,\n",
       "        7.385300e+02, 1.909690e+03],\n",
       "       [1.000000e+00, 2.374000e+02, 5.100000e+00, 5.635876e+04,\n",
       "        1.210740e+03, 2.601000e+01],\n",
       "       [1.000000e+00, 2.860000e+01, 1.500000e+00, 8.179600e+02,\n",
       "        4.290000e+01, 2.250000e+00],\n",
       "       [1.000000e+00, 1.976000e+02, 2.330000e+01, 3.904576e+04,\n",
       "        4.604080e+03, 5.428900e+02],\n",
       "       [1.000000e+00, 1.720000e+01, 4.590000e+01, 2.958400e+02,\n",
       "        7.894800e+02, 2.106810e+03],\n",
       "       [1.000000e+00, 1.991000e+02, 3.060000e+01, 3.964081e+04,\n",
       "        6.092460e+03, 9.363600e+02],\n",
       "       [1.000000e+00, 1.932000e+02, 1.840000e+01, 3.732624e+04,\n",
       "        3.554880e+03, 3.385600e+02],\n",
       "       [1.000000e+00, 2.807000e+02, 1.390000e+01, 7.879249e+04,\n",
       "        3.901730e+03, 1.932100e+02],\n",
       "       [1.000000e+00, 5.750000e+01, 3.280000e+01, 3.306250e+03,\n",
       "        1.886000e+03, 1.075840e+03],\n",
       "       [1.000000e+00, 1.757000e+02, 1.540000e+01, 3.087049e+04,\n",
       "        2.705780e+03, 2.371600e+02],\n",
       "       [1.000000e+00, 2.301000e+02, 3.780000e+01, 5.294601e+04,\n",
       "        8.697780e+03, 1.428840e+03],\n",
       "       [1.000000e+00, 4.100000e+00, 1.160000e+01, 1.681000e+01,\n",
       "        4.756000e+01, 1.345600e+02],\n",
       "       [1.000000e+00, 1.205000e+02, 2.850000e+01, 1.452025e+04,\n",
       "        3.434250e+03, 8.122500e+02],\n",
       "       [1.000000e+00, 6.900000e+01, 9.300000e+00, 4.761000e+03,\n",
       "        6.417000e+02, 8.649000e+01],\n",
       "       [1.000000e+00, 1.989000e+02, 4.940000e+01, 3.956121e+04,\n",
       "        9.825660e+03, 2.440360e+03],\n",
       "       [1.000000e+00, 2.068000e+02, 5.200000e+00, 4.276624e+04,\n",
       "        1.075360e+03, 2.704000e+01],\n",
       "       [1.000000e+00, 8.830000e+01, 2.550000e+01, 7.796890e+03,\n",
       "        2.251650e+03, 6.502500e+02],\n",
       "       [1.000000e+00, 7.000000e-01, 3.960000e+01, 4.900000e-01,\n",
       "        2.772000e+01, 1.568160e+03],\n",
       "       [1.000000e+00, 8.970000e+01, 9.900000e+00, 8.046090e+03,\n",
       "        8.880300e+02, 9.801000e+01],\n",
       "       [1.000000e+00, 2.393000e+02, 1.550000e+01, 5.726449e+04,\n",
       "        3.709150e+03, 2.402500e+02],\n",
       "       [1.000000e+00, 2.134000e+02, 2.460000e+01, 4.553956e+04,\n",
       "        5.249640e+03, 6.051600e+02],\n",
       "       [1.000000e+00, 2.177000e+02, 3.350000e+01, 4.739329e+04,\n",
       "        7.292950e+03, 1.122250e+03],\n",
       "       [1.000000e+00, 2.432000e+02, 4.900000e+01, 5.914624e+04,\n",
       "        1.191680e+04, 2.401000e+03],\n",
       "       [1.000000e+00, 1.725000e+02, 1.810000e+01, 2.975625e+04,\n",
       "        3.122250e+03, 3.276100e+02],\n",
       "       [1.000000e+00, 1.046000e+02, 5.700000e+00, 1.094116e+04,\n",
       "        5.962200e+02, 3.249000e+01],\n",
       "       [1.000000e+00, 1.107000e+02, 4.060000e+01, 1.225449e+04,\n",
       "        4.494420e+03, 1.648360e+03],\n",
       "       [1.000000e+00, 1.566000e+02, 2.600000e+00, 2.452356e+04,\n",
       "        4.071600e+02, 6.760000e+00],\n",
       "       [1.000000e+00, 1.403000e+02, 1.900000e+00, 1.968409e+04,\n",
       "        2.665700e+02, 3.610000e+00],\n",
       "       [1.000000e+00, 1.172000e+02, 1.470000e+01, 1.373584e+04,\n",
       "        1.722840e+03, 2.160900e+02],\n",
       "       [1.000000e+00, 6.610000e+01, 5.800000e+00, 4.369210e+03,\n",
       "        3.833800e+02, 3.364000e+01],\n",
       "       [1.000000e+00, 9.720000e+01, 1.500000e+00, 9.447840e+03,\n",
       "        1.458000e+02, 2.250000e+00],\n",
       "       [1.000000e+00, 6.840000e+01, 4.450000e+01, 4.678560e+03,\n",
       "        3.043800e+03, 1.980250e+03],\n",
       "       [1.000000e+00, 5.620000e+01, 5.700000e+00, 3.158440e+03,\n",
       "        3.203400e+02, 3.249000e+01],\n",
       "       [1.000000e+00, 2.224000e+02, 4.300000e+00, 4.946176e+04,\n",
       "        9.563200e+02, 1.849000e+01],\n",
       "       [1.000000e+00, 8.720000e+01, 1.180000e+01, 7.603840e+03,\n",
       "        1.028960e+03, 1.392400e+02],\n",
       "       [1.000000e+00, 2.283000e+02, 1.690000e+01, 5.212089e+04,\n",
       "        3.858270e+03, 2.856100e+02],\n",
       "       [1.000000e+00, 7.800000e+00, 3.890000e+01, 6.084000e+01,\n",
       "        3.034200e+02, 1.513210e+03],\n",
       "       [1.000000e+00, 1.998000e+02, 2.600000e+00, 3.992004e+04,\n",
       "        5.194800e+02, 6.760000e+00],\n",
       "       [1.000000e+00, 5.000000e+01, 1.160000e+01, 2.500000e+03,\n",
       "        5.800000e+02, 1.345600e+02],\n",
       "       [1.000000e+00, 2.382000e+02, 3.430000e+01, 5.673924e+04,\n",
       "        8.170260e+03, 1.176490e+03],\n",
       "       [1.000000e+00, 1.210000e+02, 8.400000e+00, 1.464100e+04,\n",
       "        1.016400e+03, 7.056000e+01],\n",
       "       [1.000000e+00, 4.830000e+01, 4.700000e+01, 2.332890e+03,\n",
       "        2.270100e+03, 2.209000e+03],\n",
       "       [1.000000e+00, 2.417000e+02, 3.800000e+01, 5.841889e+04,\n",
       "        9.184600e+03, 1.444000e+03],\n",
       "       [1.000000e+00, 2.860000e+02, 1.390000e+01, 8.179600e+04,\n",
       "        3.975400e+03, 1.932100e+02],\n",
       "       [1.000000e+00, 1.311000e+02, 4.280000e+01, 1.718721e+04,\n",
       "        5.611080e+03, 1.831840e+03],\n",
       "       [1.000000e+00, 1.954000e+02, 4.770000e+01, 3.818116e+04,\n",
       "        9.320580e+03, 2.275290e+03],\n",
       "       [1.000000e+00, 1.770000e+02, 3.340000e+01, 3.132900e+04,\n",
       "        5.911800e+03, 1.115560e+03],\n",
       "       [1.000000e+00, 1.635000e+02, 3.680000e+01, 2.673225e+04,\n",
       "        6.016800e+03, 1.354240e+03],\n",
       "       [1.000000e+00, 2.554000e+02, 2.690000e+01, 6.522916e+04,\n",
       "        6.870260e+03, 7.236100e+02],\n",
       "       [1.000000e+00, 7.640000e+01, 2.670000e+01, 5.836960e+03,\n",
       "        2.039880e+03, 7.128900e+02],\n",
       "       [1.000000e+00, 2.164000e+02, 4.170000e+01, 4.682896e+04,\n",
       "        9.023880e+03, 1.738890e+03],\n",
       "       [1.000000e+00, 1.429000e+02, 2.930000e+01, 2.042041e+04,\n",
       "        4.186970e+03, 8.584900e+02],\n",
       "       [1.000000e+00, 2.750000e+01, 1.600000e+00, 7.562500e+02,\n",
       "        4.400000e+01, 2.560000e+00],\n",
       "       [1.000000e+00, 2.069000e+02, 8.400000e+00, 4.280761e+04,\n",
       "        1.737960e+03, 7.056000e+01],\n",
       "       [1.000000e+00, 6.230000e+01, 1.260000e+01, 3.881290e+03,\n",
       "        7.849800e+02, 1.587600e+02],\n",
       "       [1.000000e+00, 1.515000e+02, 4.130000e+01, 2.295225e+04,\n",
       "        6.256950e+03, 1.705690e+03],\n",
       "       [1.000000e+00, 2.843000e+02, 1.060000e+01, 8.082649e+04,\n",
       "        3.013580e+03, 1.123600e+02],\n",
       "       [1.000000e+00, 6.690000e+01, 1.170000e+01, 4.475610e+03,\n",
       "        7.827300e+02, 1.368900e+02],\n",
       "       [1.000000e+00, 4.470000e+01, 2.580000e+01, 1.998090e+03,\n",
       "        1.153260e+03, 6.656400e+02],\n",
       "       [1.000000e+00, 2.652000e+02, 2.900000e+00, 7.033104e+04,\n",
       "        7.690800e+02, 8.410000e+00],\n",
       "       [1.000000e+00, 3.950000e+01, 4.110000e+01, 1.560250e+03,\n",
       "        1.623450e+03, 1.689210e+03],\n",
       "       [1.000000e+00, 2.929000e+02, 2.830000e+01, 8.579041e+04,\n",
       "        8.289070e+03, 8.008900e+02],\n",
       "       [1.000000e+00, 1.880000e+01, 2.170000e+01, 3.534400e+02,\n",
       "        4.079600e+02, 4.708900e+02],\n",
       "       [1.000000e+00, 7.510000e+01, 3.500000e+01, 5.640010e+03,\n",
       "        2.628500e+03, 1.225000e+03],\n",
       "       [1.000000e+00, 2.769000e+02, 4.890000e+01, 7.667361e+04,\n",
       "        1.354041e+04, 2.391210e+03],\n",
       "       [1.000000e+00, 8.600000e+00, 2.100000e+00, 7.396000e+01,\n",
       "        1.806000e+01, 4.410000e+00],\n",
       "       [1.000000e+00, 5.350000e+01, 2.000000e+00, 2.862250e+03,\n",
       "        1.070000e+02, 4.000000e+00],\n",
       "       [1.000000e+00, 2.203000e+02, 4.900000e+01, 4.853209e+04,\n",
       "        1.079470e+04, 2.401000e+03],\n",
       "       [1.000000e+00, 4.450000e+01, 3.930000e+01, 1.980250e+03,\n",
       "        1.748850e+03, 1.544490e+03],\n",
       "       [1.000000e+00, 1.362000e+02, 1.920000e+01, 1.855044e+04,\n",
       "        2.615040e+03, 3.686400e+02],\n",
       "       [1.000000e+00, 1.320000e+01, 1.590000e+01, 1.742400e+02,\n",
       "        2.098800e+02, 2.528100e+02],\n",
       "       [1.000000e+00, 2.613000e+02, 4.270000e+01, 6.827769e+04,\n",
       "        1.115751e+04, 1.823290e+03],\n",
       "       [1.000000e+00, 1.027000e+02, 2.960000e+01, 1.054729e+04,\n",
       "        3.039920e+03, 8.761600e+02],\n",
       "       [1.000000e+00, 1.202000e+02, 1.960000e+01, 1.444804e+04,\n",
       "        2.355920e+03, 3.841600e+02],\n",
       "       [1.000000e+00, 9.420000e+01, 4.900000e+00, 8.873640e+03,\n",
       "        4.615800e+02, 2.401000e+01],\n",
       "       [1.000000e+00, 1.937000e+02, 3.540000e+01, 3.751969e+04,\n",
       "        6.856980e+03, 1.253160e+03],\n",
       "       [1.000000e+00, 7.630000e+01, 2.750000e+01, 5.821690e+03,\n",
       "        2.098250e+03, 7.562500e+02],\n",
       "       [1.000000e+00, 1.976000e+02, 3.500000e+00, 3.904576e+04,\n",
       "        6.916000e+02, 1.225000e+01],\n",
       "       [1.000000e+00, 2.374000e+02, 2.750000e+01, 5.635876e+04,\n",
       "        6.528500e+03, 7.562500e+02],\n",
       "       [1.000000e+00, 1.998000e+02, 3.100000e+00, 3.992004e+04,\n",
       "        6.193800e+02, 9.610000e+00],\n",
       "       [1.000000e+00, 2.205000e+02, 3.320000e+01, 4.862025e+04,\n",
       "        7.320600e+03, 1.102240e+03],\n",
       "       [1.000000e+00, 1.498000e+02, 1.300000e+00, 2.244004e+04,\n",
       "        1.947400e+02, 1.690000e+00],\n",
       "       [1.000000e+00, 9.390000e+01, 4.350000e+01, 8.817210e+03,\n",
       "        4.084650e+03, 1.892250e+03],\n",
       "       [1.000000e+00, 1.849000e+02, 4.390000e+01, 3.418801e+04,\n",
       "        8.117110e+03, 1.927210e+03],\n",
       "       [1.000000e+00, 2.401000e+02, 7.300000e+00, 5.764801e+04,\n",
       "        1.752730e+03, 5.329000e+01],\n",
       "       [1.000000e+00, 2.964000e+02, 3.630000e+01, 8.785296e+04,\n",
       "        1.075932e+04, 1.317690e+03],\n",
       "       [1.000000e+00, 2.184000e+02, 2.770000e+01, 4.769856e+04,\n",
       "        6.049680e+03, 7.672900e+02],\n",
       "       [1.000000e+00, 2.767000e+02, 2.300000e+00, 7.656289e+04,\n",
       "        6.364100e+02, 5.290000e+00],\n",
       "       [1.000000e+00, 2.629000e+02, 3.500000e+00, 6.911641e+04,\n",
       "        9.201500e+02, 1.225000e+01],\n",
       "       [1.000000e+00, 3.690000e+01, 3.860000e+01, 1.361610e+03,\n",
       "        1.424340e+03, 1.489960e+03],\n",
       "       [1.000000e+00, 1.098000e+02, 1.430000e+01, 1.205604e+04,\n",
       "        1.570140e+03, 2.044900e+02],\n",
       "       [1.000000e+00, 5.960000e+01, 1.200000e+01, 3.552160e+03,\n",
       "        7.152000e+02, 1.440000e+02],\n",
       "       [1.000000e+00, 9.620000e+01, 1.480000e+01, 9.254440e+03,\n",
       "        1.423760e+03, 2.190400e+02],\n",
       "       [1.000000e+00, 1.720000e+01, 4.100000e+00, 2.958400e+02,\n",
       "        7.052000e+01, 1.681000e+01],\n",
       "       [1.000000e+00, 1.160000e+02, 7.700000e+00, 1.345600e+04,\n",
       "        8.932000e+02, 5.929000e+01],\n",
       "       [1.000000e+00, 2.198000e+02, 3.350000e+01, 4.831204e+04,\n",
       "        7.363300e+03, 1.122250e+03],\n",
       "       [1.000000e+00, 2.737000e+02, 2.890000e+01, 7.491169e+04,\n",
       "        7.909930e+03, 8.352100e+02],\n",
       "       [1.000000e+00, 2.680000e+01, 3.300000e+01, 7.182400e+02,\n",
       "        8.844000e+02, 1.089000e+03],\n",
       "       [1.000000e+00, 7.340000e+01, 1.700000e+01, 5.387560e+03,\n",
       "        1.247800e+03, 2.890000e+02],\n",
       "       [1.000000e+00, 7.470000e+01, 4.940000e+01, 5.580090e+03,\n",
       "        3.690180e+03, 2.440360e+03]])"
      ]
     },
     "execution_count": 283,
     "metadata": {},
     "output_type": "execute_result"
    }
   ],
   "source": [
    "xtrain"
   ]
  },
  {
   "cell_type": "markdown",
   "id": "8668fe80",
   "metadata": {},
   "source": [
    "### Applying Machine Learning Regression Algorithms after setting the polynomial degree to 2."
   ]
  },
  {
   "cell_type": "code",
   "execution_count": 284,
   "id": "8f7eeb8b",
   "metadata": {},
   "outputs": [],
   "source": [
    "from sklearn.linear_model import LinearRegression\n",
    "from sklearn.tree import DecisionTreeRegressor\n",
    "from sklearn.ensemble import RandomForestRegressor\n",
    "import xgboost as xgb\n",
    "from sklearn.svm import SVR\n",
    "from sklearn.neighbors import KNeighborsRegressor\n",
    "from sklearn.gaussian_process import GaussianProcessRegressor\n",
    "from sklearn.linear_model import ElasticNet"
   ]
  },
  {
   "cell_type": "code",
   "execution_count": 285,
   "id": "8cd9a407",
   "metadata": {},
   "outputs": [],
   "source": [
    "# import evaluation metrics\n",
    "from sklearn.metrics import mean_absolute_error,mean_squared_error,r2_score"
   ]
  },
  {
   "cell_type": "code",
   "execution_count": 286,
   "id": "08c750c4",
   "metadata": {},
   "outputs": [],
   "source": [
    "# create a function to apply all the algorithm.\n",
    "\n",
    "def mymodel(model):\n",
    "    model.fit(xtrain,ytrain)\n",
    "    ypred = model.predict(xtest)\n",
    "    \n",
    "    train = model.score(xtrain,ytrain)\n",
    "    test = model.score(xtest,ytest)\n",
    "    print(f\"Training Result :- {train*100}\")\n",
    "    print(f\"Testing Result :- {test*100}\")\n",
    "    \n",
    "    mae = mean_absolute_error(ytest,ypred) # mean absolute error\n",
    "    mse = mean_squared_error(ytest,ypred) # mean squared error\n",
    "    rmse = np.sqrt(mse) # root mean squared error\n",
    "    r2 = r2_score(ytest,ypred) # Accuracy\n",
    "    print(f\"MAE :- {mae}\\nMSE:- {mse}\\nRMSE :- {rmse}\\nACCURACY:- {r2*100}\")\n",
    "#     return model"
   ]
  },
  {
   "cell_type": "code",
   "execution_count": 287,
   "id": "f145bd4e",
   "metadata": {},
   "outputs": [
    {
     "name": "stdout",
     "output_type": "stream",
     "text": [
      "Training Result :- 98.51540427988628\n",
      "Testing Result :- 98.9966861730198\n",
      "MAE :- 0.33912992719497803\n",
      "MSE:- 0.1863574541438428\n",
      "RMSE :- 0.43169138761833414\n",
      "ACCURACY:- 98.9966861730198\n"
     ]
    }
   ],
   "source": [
    "reg = LinearRegression()\n",
    "mymodel(reg)"
   ]
  },
  {
   "cell_type": "code",
   "execution_count": 288,
   "id": "2a32c636",
   "metadata": {},
   "outputs": [
    {
     "data": {
      "text/plain": [
       "5.090191969692864"
      ]
     },
     "execution_count": 288,
     "metadata": {},
     "output_type": "execute_result"
    }
   ],
   "source": [
    "reg.intercept_"
   ]
  },
  {
   "cell_type": "code",
   "execution_count": 289,
   "id": "a2687fc6",
   "metadata": {},
   "outputs": [
    {
     "data": {
      "text/plain": [
       "array([ 0.        ,  0.05319888,  0.02165258, -0.00011716,  0.00108352,\n",
       "        0.00027163])"
      ]
     },
     "execution_count": 289,
     "metadata": {},
     "output_type": "execute_result"
    }
   ],
   "source": [
    "reg.coef_"
   ]
  },
  {
   "cell_type": "code",
   "execution_count": 291,
   "id": "f351bca7",
   "metadata": {},
   "outputs": [
    {
     "data": {
      "text/plain": [
       "{'copy_X': True, 'fit_intercept': True, 'n_jobs': None, 'positive': False}"
      ]
     },
     "execution_count": 291,
     "metadata": {},
     "output_type": "execute_result"
    }
   ],
   "source": [
    "reg.get_params()"
   ]
  },
  {
   "cell_type": "code",
   "execution_count": 292,
   "id": "7722dd95",
   "metadata": {},
   "outputs": [
    {
     "data": {
      "text/plain": [
       "array([3.27552970e+05, 3.24237212e+04, 5.40557182e+03, 2.61483966e+02,\n",
       "       4.58146159e+01, 0.00000000e+00])"
      ]
     },
     "execution_count": 292,
     "metadata": {},
     "output_type": "execute_result"
    }
   ],
   "source": [
    "reg.singular_"
   ]
  },
  {
   "cell_type": "code",
   "execution_count": 293,
   "id": "954c31b5",
   "metadata": {},
   "outputs": [
    {
     "name": "stdout",
     "output_type": "stream",
     "text": [
      "Training Result :- 100.0\n",
      "Testing Result :- 98.38485587025816\n",
      "MAE :- 0.37500000000000033\n",
      "MSE:- 0.30000000000000016\n",
      "RMSE :- 0.5477225575051663\n",
      "ACCURACY:- 98.38485587025816\n"
     ]
    }
   ],
   "source": [
    "reg = DecisionTreeRegressor()\n",
    "mymodel(reg)"
   ]
  },
  {
   "cell_type": "code",
   "execution_count": 294,
   "id": "f751fa6a",
   "metadata": {},
   "outputs": [
    {
     "data": {
      "text/plain": [
       "{'ccp_alpha': 0.0,\n",
       " 'criterion': 'squared_error',\n",
       " 'max_depth': None,\n",
       " 'max_features': None,\n",
       " 'max_leaf_nodes': None,\n",
       " 'min_impurity_decrease': 0.0,\n",
       " 'min_samples_leaf': 1,\n",
       " 'min_samples_split': 2,\n",
       " 'min_weight_fraction_leaf': 0.0,\n",
       " 'random_state': None,\n",
       " 'splitter': 'best'}"
      ]
     },
     "execution_count": 294,
     "metadata": {},
     "output_type": "execute_result"
    }
   ],
   "source": [
    "reg.get_params()"
   ]
  },
  {
   "cell_type": "code",
   "execution_count": 295,
   "id": "3cbd8adc",
   "metadata": {},
   "outputs": [
    {
     "data": {
      "text/plain": [
       "<sklearn.tree._tree.Tree at 0x2a7ce0cc340>"
      ]
     },
     "execution_count": 295,
     "metadata": {},
     "output_type": "execute_result"
    }
   ],
   "source": [
    "reg.tree_"
   ]
  },
  {
   "cell_type": "code",
   "execution_count": 296,
   "id": "0c440c1a",
   "metadata": {},
   "outputs": [
    {
     "name": "stdout",
     "output_type": "stream",
     "text": [
      "Training Result :- 99.86272735156383\n",
      "Testing Result :- 99.46836440747259\n",
      "MAE :- 0.24652500000000063\n",
      "MSE:- 0.09874702500000028\n",
      "RMSE :- 0.3142403936479209\n",
      "ACCURACY:- 99.46836440747259\n"
     ]
    }
   ],
   "source": [
    "reg = RandomForestRegressor()\n",
    "mymodel(reg)"
   ]
  },
  {
   "cell_type": "code",
   "execution_count": 297,
   "id": "ef124750",
   "metadata": {},
   "outputs": [
    {
     "name": "stdout",
     "output_type": "stream",
     "text": [
      "Training Result :- 99.99995379522566\n",
      "Testing Result :- 98.9826916377547\n",
      "MAE :- 0.31523608684539817\n",
      "MSE:- 0.18895682623839383\n",
      "RMSE :- 0.4346916450064273\n",
      "ACCURACY:- 98.9826916377547\n"
     ]
    }
   ],
   "source": [
    "reg = xgb.XGBRegressor()\n",
    "mymodel(reg)"
   ]
  },
  {
   "cell_type": "code",
   "execution_count": 299,
   "id": "1dcbc338",
   "metadata": {},
   "outputs": [
    {
     "name": "stdout",
     "output_type": "stream",
     "text": [
      "Training Result :- 56.64695907095254\n",
      "Testing Result :- 52.17174211013996\n",
      "MAE :- 2.3432236685804684\n",
      "MSE:- 8.883713287712265\n",
      "RMSE :- 2.9805558689130898\n",
      "ACCURACY:- 52.17174211013996\n"
     ]
    }
   ],
   "source": [
    "reg = SVR(kernel='poly')\n",
    "mymodel(reg)"
   ]
  },
  {
   "cell_type": "code",
   "execution_count": 300,
   "id": "a88c7bb3",
   "metadata": {},
   "outputs": [
    {
     "name": "stdout",
     "output_type": "stream",
     "text": [
      "Training Result :- 95.44736182151058\n",
      "Testing Result :- 90.80363851593827\n",
      "MAE :- 0.9285\n",
      "MSE:- 1.7081500000000005\n",
      "RMSE :- 1.306962126459677\n",
      "ACCURACY:- 90.80363851593827\n"
     ]
    }
   ],
   "source": [
    "reg = KNeighborsRegressor()\n",
    "mymodel(reg)"
   ]
  },
  {
   "cell_type": "code",
   "execution_count": 301,
   "id": "e664d70c",
   "metadata": {},
   "outputs": [
    {
     "name": "stdout",
     "output_type": "stream",
     "text": [
      "Training Result :- 100.0\n",
      "Testing Result :- -1190.0519571677237\n",
      "MAE :- 14.867500000000001\n",
      "MSE:- 239.61675\n",
      "RMSE :- 15.479559102248357\n",
      "ACCURACY:- -1190.0519571677237\n"
     ]
    }
   ],
   "source": [
    "reg = GaussianProcessRegressor()\n",
    "mymodel(reg)"
   ]
  },
  {
   "cell_type": "code",
   "execution_count": 302,
   "id": "c8bff44e",
   "metadata": {},
   "outputs": [
    {
     "name": "stdout",
     "output_type": "stream",
     "text": [
      "Training Result :- 98.49174262915064\n",
      "Testing Result :- 98.95429948278942\n",
      "MAE :- 0.3384701750941819\n",
      "MSE:- 0.19423044011144502\n",
      "RMSE :- 0.4407158269355039\n",
      "ACCURACY:- 98.95429948278942\n"
     ]
    }
   ],
   "source": [
    "reg = ElasticNet()\n",
    "mymodel(reg)"
   ]
  },
  {
   "cell_type": "code",
   "execution_count": 303,
   "id": "6a5d3af5",
   "metadata": {},
   "outputs": [
    {
     "name": "stdout",
     "output_type": "stream",
     "text": [
      "Training Result :- 98.49809526246366\n",
      "Testing Result :- 98.93760863424339\n",
      "MAE :- 0.3428376465791235\n",
      "MSE:- 0.19733063065890477\n",
      "RMSE :- 0.4442191245983279\n",
      "ACCURACY:- 98.93760863424339\n"
     ]
    }
   ],
   "source": [
    "reg = ElasticNet(alpha=0.5, l1_ratio=0.5)\n",
    "mymodel(reg)"
   ]
  },
  {
   "cell_type": "code",
   "execution_count": 304,
   "id": "05472d78",
   "metadata": {},
   "outputs": [
    {
     "name": "stdout",
     "output_type": "stream",
     "text": [
      "1 0.9851540427362384 0.9899668651881043\n",
      "2 0.9851540425485713 0.9899668688430191\n",
      "3 0.9851540422361699 0.9899668726948259\n",
      "4 0.985154041799342 0.9899668767434054\n",
      "5 0.9851540412383943 0.9899668809886393\n",
      "6 0.985154040553633 0.9899668854304084\n",
      "7 0.9851540397453628 0.9899668900685938\n",
      "8 0.9851540388138881 0.9899668949030762\n",
      "9 0.9851540377595123 0.9899668999337362\n",
      "10 0.9851540365825376 0.989966905160454\n",
      "11 0.985154035283266 0.9899669105831104\n",
      "12 0.9851540338619978 0.9899669162015851\n",
      "13 0.9851540323190334 0.9899669220157581\n",
      "14 0.9851540306546716 0.9899669280255096\n",
      "15 0.9851540288692106 0.9899669342307189\n",
      "16 0.9851540269629478 0.9899669406312661\n",
      "17 0.9851540249361799 0.9899669472270303\n",
      "18 0.9851540227892023 0.9899669540178907\n",
      "19 0.98515402052231 0.9899669610037265\n",
      "20 0.9851540181357973 0.9899669681844167\n",
      "21 0.985154015629957 0.9899669755598406\n",
      "22 0.9851540130050815 0.9899669831298765\n",
      "23 0.9851540102614627 0.9899669908944031\n",
      "24 0.9851540073993909 0.9899669988532989\n",
      "25 0.9851540044191562 0.9899670070064421\n",
      "26 0.9851540013210478 0.9899670153537113\n",
      "27 0.9851539981053538 0.9899670238949845\n",
      "28 0.9851539947723617 0.9899670326301392\n",
      "29 0.9851539913223581 0.9899670415590538\n",
      "30 0.9851539877556291 0.9899670506816056\n",
      "31 0.9851539840724595 0.9899670599976724\n",
      "32 0.9851539802731334 0.9899670695071318\n",
      "33 0.9851539763579346 0.9899670792098608\n",
      "34 0.9851539723271455 0.9899670891057367\n",
      "35 0.9851539681810481 0.9899670991946368\n",
      "36 0.9851539639199233 0.989967109476438\n",
      "37 0.9851539595440514 0.9899671199510169\n",
      "38 0.985153955053712 0.9899671306182506\n",
      "39 0.9851539504491836 0.9899671414780156\n",
      "40 0.9851539457307443 0.9899671525301881\n",
      "41 0.9851539408986711 0.9899671637746452\n",
      "42 0.9851539359532405 0.9899671752112624\n",
      "43 0.9851539308947279 0.9899671868399166\n",
      "44 0.9851539257234083 0.9899671986604833\n",
      "45 0.9851539204395556 0.9899672106728388\n",
      "46 0.9851539150434432 0.9899672228768587\n",
      "47 0.9851539095353433 0.9899672352724188\n",
      "48 0.985153903915528 0.989967247859395\n",
      "49 0.9851538981842682 0.9899672606376625\n"
     ]
    }
   ],
   "source": [
    "from sklearn.linear_model import Ridge,Lasso\n",
    "for i in range(1,50):\n",
    "    l2 = Ridge(alpha=i)\n",
    "    l2.fit(xtrain,ytrain)\n",
    "    \n",
    "    train = l2.score(xtrain,ytrain)\n",
    "    test = l2.score(xtest,ytest)\n",
    "    \n",
    "    print(f\"{i} {train} {test}\")"
   ]
  },
  {
   "cell_type": "code",
   "execution_count": 305,
   "id": "7efceb75",
   "metadata": {},
   "outputs": [
    {
     "name": "stdout",
     "output_type": "stream",
     "text": [
      "1 0.9848535534996194 0.9900609755448281\n",
      "2 0.9845992311095132 0.9909925212650685\n",
      "3 0.9841793742836423 0.9917494784042435\n",
      "4 0.9835924712049936 0.9923340395210629\n",
      "5 0.9828406124775831 0.9927442323385488\n",
      "6 0.9819228680333477 0.9929811318669929\n",
      "7 0.9808392444473486 0.9930447116103674\n",
      "8 0.9795879978091505 0.9929346677324669\n",
      "9 0.9781725729245149 0.9926514054817545\n",
      "10 0.9765894312772401 0.9921942109388282\n",
      "11 0.9748423876241651 0.9915642526750559\n",
      "12 0.9729276968425229 0.9907602042397976\n",
      "13 0.9708474039123476 0.9897828296333604\n",
      "14 0.9686017554479711 0.9886323140605292\n",
      "15 0.9663424370406193 0.9873705911520367\n",
      "16 0.9641229272833514 0.9860193466168757\n",
      "17 0.961760253916048 0.9845013193737259\n",
      "18 0.9595488697438948 0.9830323814736488\n",
      "19 0.9569668157344842 0.9812378464168242\n",
      "20 0.9541528031280901 0.9792347636088193\n",
      "21 0.950991024869861 0.9770022794979155\n",
      "22 0.9476757788319825 0.9746038489578156\n",
      "23 0.9442083312026868 0.9720404233860755\n",
      "24 0.9438632995410086 0.9717585758751459\n",
      "25 0.9438501225357494 0.9717258441461233\n",
      "26 0.9438362280974867 0.9716919575477742\n",
      "27 0.943821819999494 0.9716576276577525\n",
      "28 0.9438067625979225 0.971622412332894\n",
      "29 0.9437914370741681 0.9715875308359354\n",
      "30 0.943775552336059 0.9715520338269583\n",
      "31 0.9437588518877171 0.9715151505192864\n",
      "32 0.9437419143663116 0.971478645202942\n",
      "33 0.9437241511287667 0.9714407519449558\n",
      "34 0.9437058505668998 0.9714023409516832\n",
      "35 0.9436873831388134 0.9713644568451242\n",
      "36 0.943668071553988 0.9713251665906955\n",
      "37 0.9436482602787672 0.9712854530024666\n",
      "38 0.943628041097513 0.9712455589877942\n",
      "39 0.9436071966444938 0.9712048902938113\n",
      "40 0.9435842730875184 0.9711575084509366\n",
      "41 0.9435837274671603 0.9711585613347846\n",
      "42 0.9435833477403326 0.9711602010605194\n",
      "43 0.9435829602272328 0.9711618449866267\n",
      "44 0.9435825621535172 0.9711634427048462\n",
      "45 0.9435821552201714 0.9711650256317903\n",
      "46 0.9435817394271955 0.9711665937674587\n",
      "47 0.9435813147745894 0.9711681471118516\n",
      "48 0.9435808812623531 0.9711696856649691\n",
      "49 0.9435804388904867 0.971171209426811\n"
     ]
    }
   ],
   "source": [
    "from sklearn.linear_model import Ridge,Lasso\n",
    "for i in range(1,50):\n",
    "    l1 = Lasso(alpha=i)\n",
    "    l1.fit(xtrain,ytrain)\n",
    "    \n",
    "    train = l1.score(xtrain,ytrain)\n",
    "    test = l1.score(xtest,ytest)\n",
    "    \n",
    "    print(f\"{i} {train} {test}\")"
   ]
  }
 ],
 "metadata": {
  "kernelspec": {
   "display_name": "Python 3 (ipykernel)",
   "language": "python",
   "name": "python3"
  },
  "language_info": {
   "codemirror_mode": {
    "name": "ipython",
    "version": 3
   },
   "file_extension": ".py",
   "mimetype": "text/x-python",
   "name": "python",
   "nbconvert_exporter": "python",
   "pygments_lexer": "ipython3",
   "version": "3.10.9"
  }
 },
 "nbformat": 4,
 "nbformat_minor": 5
}
